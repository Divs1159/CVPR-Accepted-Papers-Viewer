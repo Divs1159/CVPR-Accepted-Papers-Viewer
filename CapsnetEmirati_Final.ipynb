{
  "cells": [
    {
      "cell_type": "markdown",
      "metadata": {
        "id": "view-in-github",
        "colab_type": "text"
      },
      "source": [
        "<a href=\"https://colab.research.google.com/github/Divs1159/CVPR-Accepted-Papers-Viewer/blob/master/CapsnetEmirati_Final.ipynb\" target=\"_parent\"><img src=\"https://colab.research.google.com/assets/colab-badge.svg\" alt=\"Open In Colab\"/></a>"
      ]
    },
    {
      "cell_type": "markdown",
      "source": [
        "##Install Requirements"
      ],
      "metadata": {
        "id": "Z6BQgSHe-iTY"
      }
    },
    {
      "cell_type": "code",
      "execution_count": null,
      "metadata": {
        "colab": {
          "base_uri": "https://localhost:8080/"
        },
        "id": "iYDvLhtl6DCz",
        "outputId": "e7054234-f395-4aad-9220-fb3a6f985ee9"
      },
      "outputs": [
        {
          "output_type": "stream",
          "name": "stdout",
          "text": [
            "Found existing installation: h5py 3.1.0\n",
            "Uninstalling h5py-3.1.0:\n",
            "  Would remove:\n",
            "    /usr/local/lib/python3.7/dist-packages/h5py-3.1.0.dist-info/*\n",
            "    /usr/local/lib/python3.7/dist-packages/h5py.libs/libaec-9c9e97eb.so.0.0.10\n",
            "    /usr/local/lib/python3.7/dist-packages/h5py.libs/libhdf5-00e8fae8.so.200.0.0\n",
            "    /usr/local/lib/python3.7/dist-packages/h5py.libs/libhdf5_hl-383c339f.so.200.0.0\n",
            "    /usr/local/lib/python3.7/dist-packages/h5py.libs/libsz-e7aa62f5.so.2.0.1\n",
            "    /usr/local/lib/python3.7/dist-packages/h5py.libs/libz-eb09ad1d.so.1.2.3\n",
            "    /usr/local/lib/python3.7/dist-packages/h5py/*\n",
            "Proceed (y/n)? y\n",
            "  Successfully uninstalled h5py-3.1.0\n",
            "Collecting h5py==2.10.0\n",
            "  Downloading h5py-2.10.0-cp37-cp37m-manylinux1_x86_64.whl (2.9 MB)\n",
            "\u001b[K     |████████████████████████████████| 2.9 MB 4.3 MB/s \n",
            "\u001b[?25hRequirement already satisfied: numpy>=1.7 in /usr/local/lib/python3.7/dist-packages (from h5py==2.10.0) (1.19.5)\n",
            "Requirement already satisfied: six in /usr/local/lib/python3.7/dist-packages (from h5py==2.10.0) (1.15.0)\n",
            "Installing collected packages: h5py\n",
            "Successfully installed h5py-2.10.0\n"
          ]
        }
      ],
      "source": [
        "!pip uninstall h5py\n",
        "!pip install h5py==2.10.0"
      ]
    },
    {
      "cell_type": "code",
      "execution_count": null,
      "metadata": {
        "colab": {
          "base_uri": "https://localhost:8080/"
        },
        "id": "qZH1BF0LmCTE",
        "outputId": "f0d6efc6-2f84-4961-cbeb-ebc5adcaced1"
      },
      "outputs": [
        {
          "name": "stdout",
          "output_type": "stream",
          "text": [
            "Requirement already satisfied: soundfile in /usr/local/lib/python3.7/dist-packages (0.10.3.post1)\n",
            "Requirement already satisfied: cffi>=1.0 in /usr/local/lib/python3.7/dist-packages (from soundfile) (1.15.0)\n",
            "Requirement already satisfied: pycparser in /usr/local/lib/python3.7/dist-packages (from cffi>=1.0->soundfile) (2.21)\n"
          ]
        }
      ],
      "source": [
        "pip install soundfile"
      ]
    },
    {
      "cell_type": "code",
      "execution_count": null,
      "metadata": {
        "colab": {
          "base_uri": "https://localhost:8080/"
        },
        "id": "HARFbl44kvvr",
        "outputId": "a83918a6-7b39-483b-d65b-263678a7a65f"
      },
      "outputs": [
        {
          "output_type": "stream",
          "name": "stdout",
          "text": [
            "Found existing installation: keras 2.7.0\n",
            "Uninstalling keras-2.7.0:\n",
            "  Would remove:\n",
            "    /usr/local/lib/python3.7/dist-packages/keras-2.7.0.dist-info/*\n",
            "    /usr/local/lib/python3.7/dist-packages/keras/*\n",
            "Proceed (y/n)? y\n",
            "  Successfully uninstalled keras-2.7.0\n",
            "Collecting keras==2.2.4\n",
            "  Downloading Keras-2.2.4-py2.py3-none-any.whl (312 kB)\n",
            "\u001b[K     |████████████████████████████████| 312 kB 4.1 MB/s \n",
            "\u001b[?25hRequirement already satisfied: h5py in /usr/local/lib/python3.7/dist-packages (from keras==2.2.4) (2.10.0)\n",
            "Requirement already satisfied: six>=1.9.0 in /usr/local/lib/python3.7/dist-packages (from keras==2.2.4) (1.15.0)\n",
            "Requirement already satisfied: scipy>=0.14 in /usr/local/lib/python3.7/dist-packages (from keras==2.2.4) (1.4.1)\n",
            "Requirement already satisfied: keras-preprocessing>=1.0.5 in /usr/local/lib/python3.7/dist-packages (from keras==2.2.4) (1.1.2)\n",
            "Requirement already satisfied: numpy>=1.9.1 in /usr/local/lib/python3.7/dist-packages (from keras==2.2.4) (1.19.5)\n",
            "Collecting keras-applications>=1.0.6\n",
            "  Downloading Keras_Applications-1.0.8-py3-none-any.whl (50 kB)\n",
            "\u001b[K     |████████████████████████████████| 50 kB 6.1 MB/s \n",
            "\u001b[?25hRequirement already satisfied: pyyaml in /usr/local/lib/python3.7/dist-packages (from keras==2.2.4) (3.13)\n",
            "Installing collected packages: keras-applications, keras\n",
            "\u001b[31mERROR: pip's dependency resolver does not currently take into account all the packages that are installed. This behaviour is the source of the following dependency conflicts.\n",
            "tensorflow 2.7.0 requires keras<2.8,>=2.7.0rc0, but you have keras 2.2.4 which is incompatible.\u001b[0m\n",
            "Successfully installed keras-2.2.4 keras-applications-1.0.8\n"
          ]
        }
      ],
      "source": [
        "!pip uninstall keras\n",
        "\n",
        "!pip install keras==2.2.4"
      ]
    },
    {
      "cell_type": "code",
      "execution_count": null,
      "metadata": {
        "colab": {
          "base_uri": "https://localhost:8080/"
        },
        "id": "e0Cl-wGUkzfF",
        "outputId": "da077925-6fbc-486a-9fc1-faca42266b34"
      },
      "outputs": [
        {
          "output_type": "stream",
          "name": "stdout",
          "text": [
            "Collecting tensorflow==1.15.0\n",
            "  Downloading tensorflow-1.15.0-cp37-cp37m-manylinux2010_x86_64.whl (412.3 MB)\n",
            "\u001b[K     |████████████████████████████████| 412.3 MB 23 kB/s \n",
            "\u001b[?25hCollecting tensorboard<1.16.0,>=1.15.0\n",
            "  Downloading tensorboard-1.15.0-py3-none-any.whl (3.8 MB)\n",
            "\u001b[K     |████████████████████████████████| 3.8 MB 32.2 MB/s \n",
            "\u001b[?25hRequirement already satisfied: protobuf>=3.6.1 in /usr/local/lib/python3.7/dist-packages (from tensorflow==1.15.0) (3.17.3)\n",
            "Requirement already satisfied: astor>=0.6.0 in /usr/local/lib/python3.7/dist-packages (from tensorflow==1.15.0) (0.8.1)\n",
            "Requirement already satisfied: opt-einsum>=2.3.2 in /usr/local/lib/python3.7/dist-packages (from tensorflow==1.15.0) (3.3.0)\n",
            "Requirement already satisfied: wrapt>=1.11.1 in /usr/local/lib/python3.7/dist-packages (from tensorflow==1.15.0) (1.13.3)\n",
            "Requirement already satisfied: absl-py>=0.7.0 in /usr/local/lib/python3.7/dist-packages (from tensorflow==1.15.0) (0.12.0)\n",
            "Requirement already satisfied: keras-applications>=1.0.8 in /usr/local/lib/python3.7/dist-packages (from tensorflow==1.15.0) (1.0.8)\n",
            "Collecting tensorflow-estimator==1.15.1\n",
            "  Downloading tensorflow_estimator-1.15.1-py2.py3-none-any.whl (503 kB)\n",
            "\u001b[K     |████████████████████████████████| 503 kB 34.2 MB/s \n",
            "\u001b[?25hRequirement already satisfied: six>=1.10.0 in /usr/local/lib/python3.7/dist-packages (from tensorflow==1.15.0) (1.15.0)\n",
            "Requirement already satisfied: google-pasta>=0.1.6 in /usr/local/lib/python3.7/dist-packages (from tensorflow==1.15.0) (0.2.0)\n",
            "Requirement already satisfied: termcolor>=1.1.0 in /usr/local/lib/python3.7/dist-packages (from tensorflow==1.15.0) (1.1.0)\n",
            "Requirement already satisfied: keras-preprocessing>=1.0.5 in /usr/local/lib/python3.7/dist-packages (from tensorflow==1.15.0) (1.1.2)\n",
            "Requirement already satisfied: wheel>=0.26 in /usr/local/lib/python3.7/dist-packages (from tensorflow==1.15.0) (0.37.0)\n",
            "Collecting gast==0.2.2\n",
            "  Downloading gast-0.2.2.tar.gz (10 kB)\n",
            "Requirement already satisfied: grpcio>=1.8.6 in /usr/local/lib/python3.7/dist-packages (from tensorflow==1.15.0) (1.42.0)\n",
            "Requirement already satisfied: numpy<2.0,>=1.16.0 in /usr/local/lib/python3.7/dist-packages (from tensorflow==1.15.0) (1.19.5)\n",
            "Requirement already satisfied: h5py in /usr/local/lib/python3.7/dist-packages (from keras-applications>=1.0.8->tensorflow==1.15.0) (2.10.0)\n",
            "Requirement already satisfied: markdown>=2.6.8 in /usr/local/lib/python3.7/dist-packages (from tensorboard<1.16.0,>=1.15.0->tensorflow==1.15.0) (3.3.6)\n",
            "Requirement already satisfied: setuptools>=41.0.0 in /usr/local/lib/python3.7/dist-packages (from tensorboard<1.16.0,>=1.15.0->tensorflow==1.15.0) (57.4.0)\n",
            "Requirement already satisfied: werkzeug>=0.11.15 in /usr/local/lib/python3.7/dist-packages (from tensorboard<1.16.0,>=1.15.0->tensorflow==1.15.0) (1.0.1)\n",
            "Requirement already satisfied: importlib-metadata>=4.4 in /usr/local/lib/python3.7/dist-packages (from markdown>=2.6.8->tensorboard<1.16.0,>=1.15.0->tensorflow==1.15.0) (4.8.2)\n",
            "Requirement already satisfied: typing-extensions>=3.6.4 in /usr/local/lib/python3.7/dist-packages (from importlib-metadata>=4.4->markdown>=2.6.8->tensorboard<1.16.0,>=1.15.0->tensorflow==1.15.0) (3.10.0.2)\n",
            "Requirement already satisfied: zipp>=0.5 in /usr/local/lib/python3.7/dist-packages (from importlib-metadata>=4.4->markdown>=2.6.8->tensorboard<1.16.0,>=1.15.0->tensorflow==1.15.0) (3.6.0)\n",
            "Building wheels for collected packages: gast\n",
            "  Building wheel for gast (setup.py) ... \u001b[?25l\u001b[?25hdone\n",
            "  Created wheel for gast: filename=gast-0.2.2-py3-none-any.whl size=7554 sha256=81d8dd4e44f4cbd4525f7fa1ac71c78fe3384cb5dd600973f54eea4786ae09c0\n",
            "  Stored in directory: /root/.cache/pip/wheels/21/7f/02/420f32a803f7d0967b48dd823da3f558c5166991bfd204eef3\n",
            "Successfully built gast\n",
            "Installing collected packages: tensorflow-estimator, tensorboard, gast, tensorflow\n",
            "  Attempting uninstall: tensorflow-estimator\n",
            "    Found existing installation: tensorflow-estimator 2.7.0\n",
            "    Uninstalling tensorflow-estimator-2.7.0:\n",
            "      Successfully uninstalled tensorflow-estimator-2.7.0\n",
            "  Attempting uninstall: tensorboard\n",
            "    Found existing installation: tensorboard 2.7.0\n",
            "    Uninstalling tensorboard-2.7.0:\n",
            "      Successfully uninstalled tensorboard-2.7.0\n",
            "  Attempting uninstall: gast\n",
            "    Found existing installation: gast 0.4.0\n",
            "    Uninstalling gast-0.4.0:\n",
            "      Successfully uninstalled gast-0.4.0\n",
            "  Attempting uninstall: tensorflow\n",
            "    Found existing installation: tensorflow 2.7.0\n",
            "    Uninstalling tensorflow-2.7.0:\n",
            "      Successfully uninstalled tensorflow-2.7.0\n",
            "\u001b[31mERROR: pip's dependency resolver does not currently take into account all the packages that are installed. This behaviour is the source of the following dependency conflicts.\n",
            "tensorflow-probability 0.15.0 requires gast>=0.3.2, but you have gast 0.2.2 which is incompatible.\n",
            "kapre 0.3.6 requires tensorflow>=2.0.0, but you have tensorflow 1.15.0 which is incompatible.\u001b[0m\n",
            "Successfully installed gast-0.2.2 tensorboard-1.15.0 tensorflow-1.15.0 tensorflow-estimator-1.15.1\n"
          ]
        }
      ],
      "source": [
        "pip install tensorflow==1.15.0"
      ]
    },
    {
      "cell_type": "code",
      "execution_count": null,
      "metadata": {
        "colab": {
          "base_uri": "https://localhost:8080/",
          "height": 53
        },
        "id": "5s2VBu5llqHj",
        "outputId": "e6cc548a-68ad-442d-aab5-c17924e2d1d1"
      },
      "outputs": [
        {
          "output_type": "stream",
          "name": "stderr",
          "text": [
            "Using TensorFlow backend.\n"
          ]
        },
        {
          "output_type": "execute_result",
          "data": {
            "application/vnd.google.colaboratory.intrinsic+json": {
              "type": "string"
            },
            "text/plain": [
              "'2.2.4'"
            ]
          },
          "metadata": {},
          "execution_count": 5
        }
      ],
      "source": [
        "import keras\n",
        "keras.__version__"
      ]
    },
    {
      "cell_type": "code",
      "execution_count": null,
      "metadata": {
        "colab": {
          "base_uri": "https://localhost:8080/",
          "height": 35
        },
        "id": "tNhjxHrAlxC9",
        "outputId": "ab194a06-fa8b-438e-8f80-85510f3e93b5"
      },
      "outputs": [
        {
          "output_type": "execute_result",
          "data": {
            "application/vnd.google.colaboratory.intrinsic+json": {
              "type": "string"
            },
            "text/plain": [
              "'1.15.0'"
            ]
          },
          "metadata": {},
          "execution_count": 6
        }
      ],
      "source": [
        "import tensorflow as tf\n",
        "tf.__version__"
      ]
    },
    {
      "cell_type": "code",
      "source": [
        "#import soundfile\n",
        "import numpy as np\n",
        "import librosa\n",
        "import glob\n",
        "import os\n",
        "from sklearn.model_selection import train_test_split\n",
        "import joblib\n",
        "import pandas as pd"
      ],
      "metadata": {
        "id": "58dCFyxh-tDJ"
      },
      "execution_count": null,
      "outputs": []
    },
    {
      "cell_type": "code",
      "execution_count": null,
      "metadata": {
        "id": "jgPWH1dokdtl"
      },
      "outputs": [],
      "source": [
        "from keras import backend as keras_backend\n",
        "from keras.models import Sequential, load_model\n",
        "from keras.layers import Dense, SpatialDropout2D, Dropout,GlobalMaxPool2D, Activation, Conv2D, MaxPooling2D, BatchNormalization, GlobalAveragePooling2D, LeakyReLU\n",
        "from keras.optimizers import Adam\n",
        "from keras.utils import to_categorical\n",
        "from keras.callbacks import ModelCheckpoint \n",
        "from keras.regularizers import l2\n",
        "\n",
        "from sklearn.preprocessing import LabelEncoder\n",
        "from sklearn.metrics import classification_report, confusion_matrix"
      ]
    },
    {
      "cell_type": "code",
      "execution_count": null,
      "metadata": {
        "id": "2Rc3PA3bkdto"
      },
      "outputs": [],
      "source": [
        "import numpy as np\n",
        "import os\n",
        "import pandas as pd\n",
        "import keras\n",
        "from keras.datasets import mnist\n",
        "import keras.backend as K\n",
        "import tensorflow as tf\n",
        "from keras import initializers, layers, callbacks\n",
        "import os"
      ]
    },
    {
      "cell_type": "markdown",
      "metadata": {
        "id": "eNlBUMrEkdtq"
      },
      "source": [
        "#### Load the MFCCS"
      ]
    },
    {
      "cell_type": "code",
      "execution_count": null,
      "metadata": {
        "colab": {
          "base_uri": "https://localhost:8080/"
        },
        "id": "aSw4KkSpmXZL",
        "outputId": "f8ff11c4-8b78-4bb8-aa83-fbda164c65ab"
      },
      "outputs": [
        {
          "output_type": "stream",
          "name": "stdout",
          "text": [
            "Mounted at /content/drive\n"
          ]
        }
      ],
      "source": [
        "from google.colab import drive\n",
        "drive.mount('/content/drive')"
      ]
    },
    {
      "cell_type": "code",
      "execution_count": null,
      "metadata": {
        "id": "V7CR4w7jmlrt"
      },
      "outputs": [],
      "source": [
        "# Pre-processed MFCC coefficients\n",
        "tr_X = np.load(\"/content/drive/My Drive/Colab Notebooks/mydata/tr_X-1258mfcc.npy\")\n",
        "tr_y = np.load(\"/content/drive/My Drive/Colab Notebooks/mydata/tr_y-1258mfcc.npy\")\n",
        "tst_X = np.load(\"/content/drive/My Drive/Colab Notebooks/mydata/tst_X-1258mfcc.npy\")\n",
        "tst_y = np.load(\"/content/drive/My Drive/Colab Notebooks/mydata/tst_y-1258mfcc.npy\")\n"
      ]
    },
    {
      "cell_type": "code",
      "execution_count": null,
      "metadata": {
        "id": "vWLLKGzqTqzH"
      },
      "outputs": [],
      "source": [
        "# Pre-processed MFCC coefficients\n",
        "tr_X = np.load(\"/content/drive/My Drive/Colab Notebooks/mydata/tr_X-7263mfcc.npy\")\n",
        "tr_y = np.load(\"/content/drive/My Drive/Colab Notebooks/mydata/tr_y-7263mfcc.npy\")\n",
        "tst_X = np.load(\"/content/drive/My Drive/Colab Notebooks/mydata/tst_X-7263mfcc.npy\")\n",
        "tst_y = np.load(\"/content/drive/My Drive/Colab Notebooks/mydata/tst_y-7263mfcc.npy\")"
      ]
    },
    {
      "cell_type": "code",
      "execution_count": null,
      "metadata": {
        "id": "RnNQKT7JydGE"
      },
      "outputs": [],
      "source": [
        "# Pre-processed MFCC coefficients\n",
        "tr_X = np.load(\"/content/drive/My Drive/Colab Notebooks/mydata/tr_X-1234mfcc.npy\")\n",
        "tr_y = np.load(\"/content/drive/My Drive/Colab Notebooks/mydata/tr_y-1234mfcc.npy\")\n",
        "tst_X = np.load(\"/content/drive/My Drive/Colab Notebooks/mydata/tst_X-1234mfcc.npy\")\n",
        "tst_y = np.load(\"/content/drive/My Drive/Colab Notebooks/mydata/tst_y-1234mfcc.npy\")"
      ]
    },
    {
      "cell_type": "code",
      "execution_count": null,
      "metadata": {
        "id": "fp1qM0ghF2AO"
      },
      "outputs": [],
      "source": [
        "# Pre-processed MFCC coefficients\n",
        "tr_X = np.load(\"/content/drive/My Drive/Colab Notebooks/mydata/tr_X-7134mfcc.npy\")\n",
        "tr_y = np.load(\"/content/drive/My Drive/Colab Notebooks/mydata/tr_y-7134mfcc.npy\")\n",
        "tst_X = np.load(\"/content/drive/My Drive/Colab Notebooks/mydata/tst_X-7134mfcc.npy\")\n",
        "tst_y = np.load(\"/content/drive/My Drive/Colab Notebooks/mydata/tst_y-7134mfcc.npy\")"
      ]
    },
    {
      "cell_type": "code",
      "execution_count": null,
      "metadata": {
        "id": "50S-tEWQXRW1"
      },
      "outputs": [],
      "source": [
        "# Pre-processed MFCC coefficients\n",
        "tr_X = np.load(\"/content/drive/My Drive/Colab Notebooks/mydata/tr_X-5412mfcc.npy\")\n",
        "tr_y = np.load(\"/content/drive/My Drive/Colab Notebooks/mydata/tr_y-5412mfcc.npy\")\n",
        "tst_X = np.load(\"/content/drive/My Drive/Colab Notebooks/mydata/tst_X-5412mfcc.npy\")\n",
        "tst_y = np.load(\"/content/drive/My Drive/Colab Notebooks/mydata/tst_y-5412mfcc.npy\")"
      ]
    },
    {
      "cell_type": "code",
      "execution_count": null,
      "metadata": {
        "id": "jf9h8eGBlc3i"
      },
      "outputs": [],
      "source": [
        "# Pre-processed MFCC coefficients\n",
        "tr_X = np.load(\"/content/drive/My Drive/Colab Notebooks/mydata/tr_X-mfcc.npy\")\n",
        "tr_y = np.load(\"/content/drive/My Drive/Colab Notebooks/mydata/tr_y-mfcc.npy\")\n",
        "tst_X = np.load(\"/content/drive/My Drive/Colab Notebooks/mydata/tst_X-mfcc.npy\")\n",
        "tst_y = np.load(\"/content/drive/My Drive/Colab Notebooks/mydata/tst_y-mfcc.npy\")"
      ]
    },
    {
      "cell_type": "code",
      "execution_count": null,
      "metadata": {
        "id": "KIxB-oImYGxo"
      },
      "outputs": [],
      "source": [
        "# Pre-processed MFCC coefficients\n",
        "tr_X = np.load(\"/content/drive/My Drive/Colab Notebooks/mydata/tr_X_EmiNoisy.npy\")\n",
        "tr_y = np.load(\"/content/drive/My Drive/Colab Notebooks/mydata/tr_y_EmiNoisy.npy\")\n",
        "tst_X = np.load(\"/content/drive/My Drive/Colab Notebooks/mydata/tst_X_EmiNoisy.npy\")\n",
        "tst_y = np.load(\"/content/drive/My Drive/Colab Notebooks/mydata/tst_y_EmiNoisy.npy\")"
      ]
    },
    {
      "cell_type": "code",
      "execution_count": null,
      "metadata": {
        "colab": {
          "base_uri": "https://localhost:8080/"
        },
        "id": "rPMjcgzwmrwk",
        "outputId": "c46a77d4-d7da-4dd6-f59f-37dca1f5d660"
      },
      "outputs": [
        {
          "output_type": "execute_result",
          "data": {
            "text/plain": [
              "array(['F', 'ang', '0'], dtype='<U32')"
            ]
          },
          "metadata": {},
          "execution_count": 123
        }
      ],
      "source": [
        "tst_y[0]"
      ]
    },
    {
      "cell_type": "code",
      "execution_count": null,
      "metadata": {
        "colab": {
          "base_uri": "https://localhost:8080/"
        },
        "id": "cAcaLdBDkdts",
        "outputId": "9dfcd036-7b1e-460b-97ee-0b0f94b45b1d"
      },
      "outputs": [
        {
          "output_type": "stream",
          "name": "stdout",
          "text": [
            "Test split: 6480 \t\t Train split: 1071\n",
            "X test shape: (6480, 40, 151) \t X train shape: (1071, 40, 151)\n",
            "y test shape: (6480, 3) \t\t y train shape: (1071, 3)\n"
          ]
        }
      ],
      "source": [
        "# Print status\n",
        "print(\"Test split: {} \\t\\t Train split: {}\".format(len(tst_X), len(tr_X)))\n",
        "print(\"X test shape: {} \\t X train shape: {}\".format(tst_X.shape, tr_X.shape))\n",
        "print(\"y test shape: {} \\t\\t y train shape: {}\".format(tst_y.shape, tr_y.shape))"
      ]
    },
    {
      "cell_type": "markdown",
      "metadata": {
        "id": "oPeOAybVkdtv"
      },
      "source": [
        "##### One hot encode labels"
      ]
    },
    {
      "cell_type": "code",
      "execution_count": null,
      "metadata": {
        "colab": {
          "base_uri": "https://localhost:8080/"
        },
        "id": "_xCwmPvhkdtv",
        "outputId": "527acb3b-7bea-481b-8889-a126ba5ba1c2"
      },
      "outputs": [
        {
          "output_type": "execute_result",
          "data": {
            "text/plain": [
              "array(['0', '0', '0', ..., '8', '8', '8'], dtype='<U32')"
            ]
          },
          "metadata": {},
          "execution_count": 125
        }
      ],
      "source": [
        "tst_y[:,2]"
      ]
    },
    {
      "cell_type": "code",
      "execution_count": null,
      "metadata": {
        "id": "cUtBLXUdkdtx"
      },
      "outputs": [],
      "source": [
        "le = LabelEncoder()\n",
        "y_test_encoded = to_categorical(le.fit_transform(tst_y[:,2]))\n",
        "y_train_encoded = to_categorical(le.fit_transform(tr_y[:,2]))"
      ]
    },
    {
      "cell_type": "code",
      "execution_count": null,
      "metadata": {
        "colab": {
          "base_uri": "https://localhost:8080/"
        },
        "id": "KZNGJdmakdt0",
        "outputId": "7bf2700d-722c-4d35-bea0-67fe1ab69c7d"
      },
      "outputs": [
        {
          "output_type": "execute_result",
          "data": {
            "text/plain": [
              "array([[1., 0., 0., ..., 0., 0., 0.],\n",
              "       [1., 0., 0., ..., 0., 0., 0.],\n",
              "       [1., 0., 0., ..., 0., 0., 0.],\n",
              "       ...,\n",
              "       [0., 0., 0., ..., 0., 1., 0.],\n",
              "       [0., 0., 0., ..., 0., 1., 0.],\n",
              "       [0., 0., 0., ..., 0., 1., 0.]], dtype=float32)"
            ]
          },
          "metadata": {},
          "execution_count": 127
        }
      ],
      "source": [
        "y_test_encoded"
      ]
    },
    {
      "cell_type": "code",
      "execution_count": null,
      "metadata": {
        "colab": {
          "base_uri": "https://localhost:8080/"
        },
        "id": "MFxFbPsPkdt2",
        "outputId": "fcc30623-71a7-4089-bc16-72ca4fcc80e5"
      },
      "outputs": [
        {
          "output_type": "execute_result",
          "data": {
            "text/plain": [
              "(6480, 30)"
            ]
          },
          "metadata": {},
          "execution_count": 128
        }
      ],
      "source": [
        "y_test_encoded.shape"
      ]
    },
    {
      "cell_type": "markdown",
      "metadata": {
        "id": "3wGUxa6Ukdt4"
      },
      "source": [
        "##### Reshape data"
      ]
    },
    {
      "cell_type": "code",
      "execution_count": null,
      "metadata": {
        "id": "h-g_oL_ekdt4"
      },
      "outputs": [],
      "source": [
        "# How data should be structured\n",
        "num_rows = tr_X.shape[1] #40\n",
        "num_columns = tr_X.shape[2] #?? \n",
        "num_channels = 1\n",
        "\n",
        "# Reshape to fit the network input (channel last)\n",
        "X_train = tr_X.reshape(tr_X.shape[0], num_rows, num_columns, num_channels)\n",
        "X_test = tst_X.reshape(tst_X.shape[0], num_rows, num_columns, num_channels)\n",
        "\n",
        "# Total number of labels to predict (equal to the network output nodes)\n",
        "num_labels = y_train_encoded.shape[1]"
      ]
    },
    {
      "cell_type": "code",
      "execution_count": null,
      "metadata": {
        "colab": {
          "base_uri": "https://localhost:8080/"
        },
        "id": "KjJ7jFLRkdt6",
        "outputId": "fe0dbf57-3e4f-4262-f3db-e6ddc82464a1"
      },
      "outputs": [
        {
          "output_type": "execute_result",
          "data": {
            "text/plain": [
              "30"
            ]
          },
          "metadata": {},
          "execution_count": 130
        }
      ],
      "source": [
        "num_labels"
      ]
    },
    {
      "cell_type": "code",
      "execution_count": null,
      "metadata": {
        "colab": {
          "base_uri": "https://localhost:8080/"
        },
        "id": "VUGO0JIekdt9",
        "outputId": "4df886f0-3513-434d-87fd-5b24d1d13a9f"
      },
      "outputs": [
        {
          "output_type": "execute_result",
          "data": {
            "text/plain": [
              "(1071, 40, 151, 1)"
            ]
          },
          "metadata": {},
          "execution_count": 131
        }
      ],
      "source": [
        "X_train.shape"
      ]
    },
    {
      "cell_type": "code",
      "execution_count": null,
      "metadata": {
        "id": "mW60QNozyEH7"
      },
      "outputs": [],
      "source": [
        "n_class = num_labels\n",
        "\n",
        "input_shape = (num_rows, num_columns, num_channels)"
      ]
    },
    {
      "cell_type": "code",
      "execution_count": null,
      "metadata": {
        "id": "X-IjA-3zwnb3"
      },
      "outputs": [],
      "source": [
        "import keras.backend as K\n",
        "import tensorflow as tf\n",
        "from keras import initializers, layers\n",
        "\n",
        "import numpy as np\n",
        "from keras import layers, models, optimizers\n",
        "from keras import backend as K\n",
        "from keras.utils import to_categorical\n",
        "import matplotlib.pyplot as plt\n",
        "from PIL import Image"
      ]
    },
    {
      "cell_type": "markdown",
      "source": [
        "####Lets Start defining the CapsNet Layers"
      ],
      "metadata": {
        "id": "R9Vygfyh_QjP"
      }
    },
    {
      "cell_type": "code",
      "execution_count": null,
      "metadata": {
        "id": "7UM2_fvGwqPG"
      },
      "outputs": [],
      "source": [
        "class Length(layers.Layer):\n",
        "    \"\"\"\n",
        "    Compute the length of vectors. This is used to compute a Tensor that has the same shape with y_true in margin_loss.\n",
        "    Using this layer as model's output can directly predict labels by using `y_pred = np.argmax(model.predict(x), 1)`\n",
        "    inputs: shape=[None, num_vectors, dim_vector]\n",
        "    output: shape=[None, num_vectors]\n",
        "    \"\"\"\n",
        "    def __init__(self, **kwargs):\n",
        "        super(Length, self).__init__(**kwargs)\n",
        "    \n",
        "    def call(self, inputs, **kwargs):\n",
        "        return K.sqrt(K.sum(K.square(inputs), -1))\n",
        "\n",
        "    def compute_output_shape(self, input_shape):\n",
        "        return input_shape[:-1]"
      ]
    },
    {
      "cell_type": "code",
      "execution_count": null,
      "metadata": {
        "id": "E857th-XwqUe"
      },
      "outputs": [],
      "source": [
        "class Mask(layers.Layer):\n",
        "    \"\"\"\n",
        "    Mask a Tensor with shape=[None, num_capsule, dim_vector] either by the capsule with max length or by an additional \n",
        "    input mask. Except the max-length capsule (or specified capsule), all vectors are masked to zeros. Then flatten the\n",
        "    masked Tensor.\n",
        "    For example:\n",
        "        ```\n",
        "        x = keras.layers.Input(shape=[8, 3, 2])  # batch_size=8, each sample contains 3 capsules with dim_vector=2\n",
        "        y = keras.layers.Input(shape=[8, 3])  # True labels. 8 samples, 3 classes, one-hot coding.\n",
        "        out = Mask()(x)  # out.shape=[8, 6]\n",
        "        # or\n",
        "        out2 = Mask()([x, y])  # out2.shape=[8,6]. Masked with true labels y. Of course y can also be manipulated.\n",
        "        ```\n",
        "    \"\"\"\n",
        "    def __init__(self, **kwargs):\n",
        "        super(Mask, self).__init__(**kwargs)\n",
        "    \n",
        "    def call(self, inputs, **kwargs):\n",
        "        if type(inputs) is list:  # true label is provided with shape = [None, n_classes], i.e. one-hot code.\n",
        "            assert len(inputs) == 2\n",
        "            inputs, mask = inputs\n",
        "        else:  # if no true label, mask by the max length of capsules. Mainly used for prediction\n",
        "            # compute lengths of capsules\n",
        "            x = K.sqrt(K.sum(K.square(inputs), -1))\n",
        "            # generate the mask which is a one-hot code.\n",
        "            # mask.shape=[None, n_classes]=[None, num_capsule]\n",
        "            mask = K.one_hot(indices=K.argmax(x, 1), num_classes=x.get_shape().as_list()[1])\n",
        "\n",
        "        # inputs.shape=[None, num_capsule, dim_capsule]\n",
        "        # mask.shape=[None, num_capsule]\n",
        "        # masked.shape=[None, num_capsule * dim_capsule]\n",
        "        masked = K.batch_flatten(inputs * K.expand_dims(mask, -1))\n",
        "        return masked\n",
        "\n",
        "    def compute_output_shape(self, input_shape):\n",
        "        if type(input_shape[0]) is tuple:  # true label provided\n",
        "            return tuple([None, input_shape[0][1] * input_shape[0][2]])\n",
        "        else:  # no true label provided\n",
        "            return tuple([None, input_shape[1] * input_shape[2]])"
      ]
    },
    {
      "cell_type": "code",
      "execution_count": null,
      "metadata": {
        "id": "Wga1ErmBwqaf"
      },
      "outputs": [],
      "source": [
        "def squash(vectors, axis=-1):\n",
        "    \"\"\"\n",
        "    The non-linear activation used in Capsule. It drives the length of a large vector to near 1 and small vector to 0\n",
        "    :param vectors: some vectors to be squashed, N-dim tensor\n",
        "    :param axis: the axis to squash\n",
        "    :return: a Tensor with same shape as input vectors\n",
        "    \"\"\"\n",
        "    s_squared_norm = K.sum(K.square(vectors), axis, keepdims=True)\n",
        "    scale = s_squared_norm / (1 + s_squared_norm) / K.sqrt(s_squared_norm + K.epsilon())\n",
        "    return scale * vectors"
      ]
    },
    {
      "cell_type": "code",
      "execution_count": null,
      "metadata": {
        "id": "ToDk81-jxAAx"
      },
      "outputs": [],
      "source": [
        "class CapsuleLayer(layers.Layer):\n",
        "    \"\"\"\n",
        "    The capsule layer. It is similar to Dense layer. Dense layer has `in_num` inputs, each is a scalar, the output of the \n",
        "    neuron from the former layer, and it has `out_num` output neurons. CapsuleLayer just expand the output of the neuron\n",
        "    from scalar to vector. So its input shape = [None, input_num_capsule, input_dim_capsule] and output shape = \\\n",
        "    [None, num_capsule, dim_capsule]. For Dense Layer, input_dim_capsule = dim_capsule = 1.\n",
        "    \n",
        "    :param num_capsule: number of capsules in this layer\n",
        "    :param dim_capsule: dimension of the output vectors of the capsules in this layer\n",
        "    :param routings: number of iterations for the routing algorithm\n",
        "    \"\"\"\n",
        "\n",
        "    def __init__(self, num_capsule, dim_capsule, routings=3,\n",
        "                 kernel_initializer='glorot_uniform',\n",
        "                 **kwargs):\n",
        "        super(CapsuleLayer, self).__init__(**kwargs)\n",
        "        self.num_capsule = num_capsule\n",
        "        self.dim_capsule = dim_capsule\n",
        "        self.routings = routings\n",
        "        self.kernel_initializer = initializers.get(kernel_initializer)\n",
        "\n",
        "    def build(self, input_shape):\n",
        "        assert len(input_shape) >= 3, \"The input Tensor should have shape=[None, input_num_capsule, input_dim_capsule]\"\n",
        "        self.input_num_capsule = input_shape[1]\n",
        "        self.input_dim_capsule = input_shape[2]\n",
        "\n",
        "        # Transform matrix\n",
        "        self.W = self.add_weight(shape=[self.num_capsule, self.input_num_capsule,\n",
        "                                        self.dim_capsule, self.input_dim_capsule],\n",
        "                                 initializer=self.kernel_initializer,\n",
        "                                 name='W')\n",
        "\n",
        "        self.built = True  \n",
        "\n",
        "    def call(self, inputs, training=None):\n",
        "        # inputs.shape=[None, input_num_capsule, input_dim_capsule]\n",
        "        # inputs_expand.shape=[None, 1, input_num_capsule, input_dim_capsule]\n",
        "        inputs_expand = K.expand_dims(inputs, 1)\n",
        "\n",
        "        # Replicate num_capsule dimension to prepare being multiplied by W\n",
        "        # inputs_tiled.shape=[None, num_capsule, input_num_capsule, input_dim_capsule]\n",
        "        inputs_tiled = K.tile(inputs_expand, [1, self.num_capsule, 1, 1])\n",
        "\n",
        "        # Compute `inputs * W` by scanning inputs_tiled on dimension 0.\n",
        "        # x.shape=[num_capsule, input_num_capsule, input_dim_capsule]\n",
        "        # W.shape=[num_capsule, input_num_capsule, dim_capsule, input_dim_capsule]\n",
        "        # Regard the first two dimensions as `batch` dimension,\n",
        "        # then matmul: [input_dim_capsule] x [dim_capsule, input_dim_capsule]^T -> [dim_capsule].\n",
        "        # inputs_hat.shape = [None, num_capsule, input_num_capsule, dim_capsule]\n",
        "        inputs_hat = K.map_fn(lambda x: K.batch_dot(x, self.W, [2, 3]), elems=inputs_tiled)\n",
        "\n",
        "        # Begin: Routing algorithm ---------------------------------------------------------------------#\n",
        "        # The prior for coupling coefficient, initialized as zeros.\n",
        "        # b.shape = [None, self.num_capsule, self.input_num_capsule].\n",
        "        b = tf.zeros(shape=[K.shape(inputs_hat)[0], self.num_capsule, self.input_num_capsule]) \n",
        "\n",
        "        assert self.routings > 0, 'The routings should be > 0.'\n",
        "        for i in range(self.routings):\n",
        "            # c.shape=[batch_size, num_capsule, input_num_capsule]\n",
        "            c = tf.nn.softmax(b, dim=1)\n",
        "\n",
        "            # c.shape =  [batch_size, num_capsule, input_num_capsule]\n",
        "            # inputs_hat.shape=[None, num_capsule, input_num_capsule, dim_capsule]\n",
        "            # The first two dimensions as `batch` dimension,\n",
        "            # then matmal: [input_num_capsule] x [input_num_capsule, dim_capsule] -> [dim_capsule].\n",
        "            # outputs.shape=[None, num_capsule, dim_capsule]\n",
        "            outputs = squash(K.batch_dot(c, inputs_hat, [2, 2]))  # [None, 10, 16]\n",
        "\n",
        "            if i < self.routings - 1:\n",
        "                # outputs.shape =  [None, num_capsule, dim_capsule]\n",
        "                # inputs_hat.shape=[None, num_capsule, input_num_capsule, dim_capsule]\n",
        "                # The first two dimensions as `batch` dimension,\n",
        "                # then matmal: [dim_capsule] x [input_num_capsule, dim_capsule]^T -> [input_num_capsule].\n",
        "                # b.shape=[batch_size, num_capsule, input_num_capsule]\n",
        "                b += K.batch_dot(outputs, inputs_hat, [2, 3])\n",
        "        # End: Routing algorithm -----------------------------------------------------------------------#\n",
        "\n",
        "        return outputs\n",
        "\n",
        "    def compute_output_shape(self, input_shape):\n",
        "        return tuple([None, self.num_capsule, self.dim_capsule])"
      ]
    },
    {
      "cell_type": "code",
      "execution_count": null,
      "metadata": {
        "id": "MUvAQ3I0xAJ7"
      },
      "outputs": [],
      "source": [
        "def PrimaryCap(inputs, dim_capsule, n_channels, kernel_size, strides, padding):\n",
        "    \"\"\"\n",
        "    Apply Conv2D `n_channels` times and concatenate all capsules\n",
        "    :param inputs: 4D tensor, shape=[None, width, height, channels]\n",
        "    :param dim_capsule: the dim of the output vector of capsule\n",
        "    :param n_channels: the number of types of capsules\n",
        "    :return: output tensor, shape=[None, num_capsule, dim_capsule]\n",
        "    \"\"\"\n",
        "    output = layers.Conv2D(filters=dim_capsule*n_channels, kernel_size=kernel_size, strides=strides, padding=padding,\n",
        "                           name='primarycap_conv2d')(inputs)\n",
        "    batch_norm2 = layers.BatchNormalization()(output)                       \n",
        "    outputs = layers.Reshape(target_shape=[-1, dim_capsule], name='primarycap_reshape')(batch_norm2)\n",
        "    return layers.Lambda(squash, name='primarycap_squash')(outputs)"
      ]
    },
    {
      "cell_type": "code",
      "execution_count": null,
      "metadata": {
        "id": "7XfycPX49AxZ"
      },
      "outputs": [],
      "source": [
        ""
      ]
    },
    {
      "cell_type": "markdown",
      "source": [
        "###CapsNet-M Model"
      ],
      "metadata": {
        "id": "Ux4ZLY2y_wof"
      }
    },
    {
      "cell_type": "code",
      "execution_count": null,
      "metadata": {
        "id": "2ikYWOkd0JAd"
      },
      "outputs": [],
      "source": [
        "\n",
        "#15-13-11 combo \n",
        "\n",
        "def CapsNet(input_shape, n_class, routings):\n",
        "    \"\"\"\n",
        "    A Capsule Network on MNIST.\n",
        "    :param input_shape: data shape, 3d, [width, height, channels]\n",
        "    :param n_class: number of classes\n",
        "    :param routings: number of routing iterations\n",
        "    :return: Two Keras Models, the first one used for training, and the second one for evaluation.\n",
        "            `eval_model` can also be used for training.\n",
        "    \"\"\"\n",
        "    x = layers.Input(shape=input_shape)\n",
        "\n",
        "    # Layer 1: Just a conventional Conv2D layer\n",
        "    conv1 = layers.Conv2D(filters=64, kernel_size=15, strides= (1,5), padding='valid', activation='relu', name='conv1')(x)\n",
        "    batch_norm1 = layers.BatchNormalization()(conv1)\n",
        "    #batch_norm1 = layers.Dropout(0.3)(batch_norm1)\n",
        "\n",
        "    conv2 = layers.Conv2D(filters=256, kernel_size=13, strides= (1,1), padding='valid', activation='relu', name='conv2')(batch_norm1)\n",
        "    batch_normx = layers.BatchNormalization()(conv2)\n",
        "\n",
        "    # Layer 2: Conv2D layer with `squash` activation, then reshape to [None, num_capsule, dim_capsule]\n",
        "    primarycaps = PrimaryCap(batch_normx, dim_capsule=8, n_channels=32, kernel_size=11, strides=(2,2), padding='valid')\n",
        "\n",
        "    # Layer 3: Capsule layer. Routing algorithm works here.\n",
        "    digitcaps = CapsuleLayer(num_capsule=n_class, dim_capsule=16, routings=routings,\n",
        "                             name='digitcaps')(primarycaps)\n",
        "\n",
        "    # Layer 4: This is an auxiliary layer to replace each capsule with its length. Just to match the true label's shape.\n",
        "    # If using tensorflow, this will not be necessary. :)\n",
        "    out_caps = Length(name='capsnet')(digitcaps)\n",
        "\n",
        "\n",
        "    # Decoder network.\n",
        "    y = layers.Input(shape=(n_class,))\n",
        "    masked_by_y = Mask()([digitcaps, y])  # The true label is used to mask the output of capsule layer. For training\n",
        "    masked = Mask()(digitcaps)  # Mask using the capsule with maximal length. For prediction\n",
        "\n",
        "    # Shared Decoder model in training and prediction\n",
        "    \n",
        "    decoder = models.Sequential(name='decoder')\n",
        "    decoder.add(layers.Dense(1024, activation='relu', input_dim=16*n_class))\n",
        "    #decoder.add(layers.Dense(1024, activation='relu'))\n",
        "    decoder.add(layers.Dense(np.prod(input_shape), activation='sigmoid'))\n",
        "    decoder.add(layers.Reshape(target_shape=input_shape, name='out_recon'))\n",
        "    \n",
        "    \n",
        "\n",
        "    # Models for training and evaluation (prediction)\n",
        "    train_model = models.Model([x, y], [out_caps, decoder(masked_by_y)])\n",
        "    eval_model = models.Model(x, [out_caps, decoder(masked)])\n",
        "\n",
        "    # manipulate model\n",
        "    noise = layers.Input(shape=(n_class, 16))\n",
        "    noised_digitcaps = layers.Add()([digitcaps, noise])\n",
        "    masked_noised_y = Mask()([noised_digitcaps, y])\n",
        "    manipulate_model = models.Model([x, y, noise], decoder(masked_noised_y))\n",
        "    return train_model, eval_model, manipulate_model, decoder\n"
      ]
    },
    {
      "cell_type": "code",
      "execution_count": null,
      "metadata": {
        "id": "-KxeoX0PwqiN"
      },
      "outputs": [],
      "source": [
        "def margin_loss(y_true, y_pred):\n",
        "    \"\"\"\n",
        "    Margin loss for Eq.(4). When y_true[i, :] contains not just one `1`, this loss should work too. Not test it.\n",
        "    :param y_true: [None, n_classes]\n",
        "    :param y_pred: [None, num_capsule]\n",
        "    :return: a scalar loss value.\n",
        "    \"\"\"\n",
        "    L = y_true * K.square(K.maximum(0., 0.9 - y_pred)) + \\\n",
        "        0.5 * (1 - y_true) * K.square(K.maximum(0., y_pred - 0.1))\n",
        "\n",
        "    return K.mean(K.sum(L, 1))"
      ]
    },
    {
      "cell_type": "code",
      "execution_count": null,
      "metadata": {
        "id": "qywEDM3k0Eme"
      },
      "outputs": [],
      "source": [
        "model, eval_model, manipulate_model, decoder_model = CapsNet(input_shape=X_train.shape[1:], \n",
        "                                              n_class=len(np.unique(np.argmax(y_train_encoded, 1))),\n",
        "                                              routings=2)"
      ]
    },
    {
      "cell_type": "code",
      "execution_count": null,
      "metadata": {
        "colab": {
          "base_uri": "https://localhost:8080/"
        },
        "id": "9AyXmYza0Lh3",
        "outputId": "744e7efc-c9fc-4d48-bcca-92e05bfdf78e"
      },
      "outputs": [
        {
          "output_type": "stream",
          "name": "stdout",
          "text": [
            "__________________________________________________________________________________________________\n",
            "Layer (type)                    Output Shape         Param #     Connected to                     \n",
            "==================================================================================================\n",
            "input_16 (InputLayer)           (None, 40, 151, 1)   0                                            \n",
            "__________________________________________________________________________________________________\n",
            "conv1 (Conv2D)                  (None, 26, 28, 64)   14464       input_16[0][0]                   \n",
            "__________________________________________________________________________________________________\n",
            "batch_normalization_22 (BatchNo (None, 26, 28, 64)   256         conv1[0][0]                      \n",
            "__________________________________________________________________________________________________\n",
            "conv2 (Conv2D)                  (None, 14, 16, 256)  2769152     batch_normalization_22[0][0]     \n",
            "__________________________________________________________________________________________________\n",
            "batch_normalization_23 (BatchNo (None, 14, 16, 256)  1024        conv2[0][0]                      \n",
            "__________________________________________________________________________________________________\n",
            "primarycap_conv2d (Conv2D)      (None, 2, 3, 256)    7930112     batch_normalization_23[0][0]     \n",
            "__________________________________________________________________________________________________\n",
            "batch_normalization_24 (BatchNo (None, 2, 3, 256)    1024        primarycap_conv2d[0][0]          \n",
            "__________________________________________________________________________________________________\n",
            "primarycap_reshape (Reshape)    (None, 192, 8)       0           batch_normalization_24[0][0]     \n",
            "__________________________________________________________________________________________________\n",
            "primarycap_squash (Lambda)      (None, 192, 8)       0           primarycap_reshape[0][0]         \n",
            "__________________________________________________________________________________________________\n",
            "digitcaps (CapsuleLayer)        (None, 30, 16)       737280      primarycap_squash[0][0]          \n",
            "__________________________________________________________________________________________________\n",
            "input_17 (InputLayer)           (None, 30)           0                                            \n",
            "__________________________________________________________________________________________________\n",
            "mask_10 (Mask)                  (None, 480)          0           digitcaps[0][0]                  \n",
            "                                                                 input_17[0][0]                   \n",
            "__________________________________________________________________________________________________\n",
            "capsnet (Length)                (None, 30)           0           digitcaps[0][0]                  \n",
            "__________________________________________________________________________________________________\n",
            "decoder (Sequential)            (None, 40, 151, 1)   6683544     mask_10[0][0]                    \n",
            "==================================================================================================\n",
            "Total params: 18,136,856\n",
            "Trainable params: 18,135,704\n",
            "Non-trainable params: 1,152\n",
            "__________________________________________________________________________________________________\n"
          ]
        }
      ],
      "source": [
        "model.summary()"
      ]
    },
    {
      "cell_type": "code",
      "execution_count": null,
      "metadata": {
        "colab": {
          "base_uri": "https://localhost:8080/"
        },
        "id": "3WhkhHo9wqpn",
        "outputId": "d0972999-f81d-4b7c-9fda-5b91e00ac54d"
      },
      "outputs": [
        {
          "output_type": "stream",
          "name": "stdout",
          "text": [
            "_________________________________________________________________\n",
            "Layer (type)                 Output Shape              Param #   \n",
            "=================================================================\n",
            "dense_7 (Dense)              (None, 1024)              492544    \n",
            "_________________________________________________________________\n",
            "dense_8 (Dense)              (None, 6040)              6191000   \n",
            "_________________________________________________________________\n",
            "out_recon (Reshape)          (None, 40, 151, 1)        0         \n",
            "=================================================================\n",
            "Total params: 6,683,544\n",
            "Trainable params: 6,683,544\n",
            "Non-trainable params: 0\n",
            "_________________________________________________________________\n"
          ]
        }
      ],
      "source": [
        "decoder_model.summary()"
      ]
    },
    {
      "cell_type": "code",
      "execution_count": null,
      "metadata": {
        "id": "ufLEYKYvReQH"
      },
      "outputs": [],
      "source": [
        "# This function keeps the learning rate at 0.001 for the first ten epochs\n",
        "# and decreases it exponentially after that.\n",
        "def scheduler(epoch):\n",
        "  if epoch < 1:\n",
        "    return 0.001\n",
        "  else:\n",
        "    return 0.001 * (0.9** float(epoch))\n",
        "\n"
      ]
    },
    {
      "cell_type": "code",
      "execution_count": null,
      "metadata": {
        "id": "46-uH4OX92Mr"
      },
      "outputs": [],
      "source": [
        " # callbacks\n",
        "lr= 0.001\n",
        "lr_decay=0.9\n",
        "save_dir = '/content/drive/My Drive/Colab Notebooks/mydata/'\n",
        "\n",
        "log = callbacks.CSVLogger(save_dir + '/log.csv')\n",
        "\n",
        "checkpoint = callbacks.ModelCheckpoint(save_dir + '/weights-{epoch:02d}.h5', monitor='val_capsnet_acc',\n",
        "                                           save_best_only=True, save_weights_only=True, verbose=1)\n",
        "#lr_decay = callbacks.LearningRateScheduler(schedule=lambda epoch: lr * (0.95** float(epoch)))\n",
        "\n",
        "#lr_decay = callbacks.LearningRateScheduler(scheduler)\n",
        "\n",
        "\n",
        "model.compile(optimizer=optimizers.Adam(lr=0.001),\n",
        "                  loss=[margin_loss, 'mse'],\n",
        "                  loss_weights=[1.,0.302],\n",
        "                   metrics={'capsnet': 'accuracy'})"
      ]
    },
    {
      "cell_type": "code",
      "execution_count": null,
      "metadata": {
        "colab": {
          "base_uri": "https://localhost:8080/"
        },
        "id": "8TW0An0M92Un",
        "outputId": "20583d74-6e79-4252-dc3f-8525420380fa"
      },
      "outputs": [
        {
          "output_type": "stream",
          "name": "stdout",
          "text": [
            "Train on 1071 samples, validate on 6480 samples\n",
            "Epoch 1/40\n",
            "1071/1071 [==============================] - 16s 15ms/step - loss: 0.7891 - capsnet_loss: 0.7071 - decoder_loss: 0.2715 - capsnet_acc: 0.4164 - val_loss: 0.5661 - val_capsnet_loss: 0.4854 - val_decoder_loss: 0.2672 - val_capsnet_acc: 0.4358\n",
            "\n",
            "Epoch 00001: val_capsnet_acc improved from -inf to 0.43580, saving model to /content/drive/My Drive/Colab Notebooks/mydata//weights-01.h5\n",
            "Epoch 2/40\n",
            "1071/1071 [==============================] - 13s 12ms/step - loss: 0.3969 - capsnet_loss: 0.3197 - decoder_loss: 0.2556 - capsnet_acc: 0.8263 - val_loss: 0.3636 - val_capsnet_loss: 0.2943 - val_decoder_loss: 0.2294 - val_capsnet_acc: 0.7914\n",
            "\n",
            "Epoch 00002: val_capsnet_acc improved from 0.43580 to 0.79136, saving model to /content/drive/My Drive/Colab Notebooks/mydata//weights-02.h5\n",
            "Epoch 3/40\n",
            "1071/1071 [==============================] - 13s 12ms/step - loss: 0.1803 - capsnet_loss: 0.1300 - decoder_loss: 0.1667 - capsnet_acc: 0.9944 - val_loss: 0.2060 - val_capsnet_loss: 0.1796 - val_decoder_loss: 0.0876 - val_capsnet_acc: 0.8767\n",
            "\n",
            "Epoch 00003: val_capsnet_acc improved from 0.79136 to 0.87670, saving model to /content/drive/My Drive/Colab Notebooks/mydata//weights-03.h5\n",
            "Epoch 4/40\n",
            "1071/1071 [==============================] - 13s 12ms/step - loss: 0.0546 - capsnet_loss: 0.0422 - decoder_loss: 0.0410 - capsnet_acc: 1.0000 - val_loss: 0.1581 - val_capsnet_loss: 0.1506 - val_decoder_loss: 0.0249 - val_capsnet_acc: 0.8824\n",
            "\n",
            "Epoch 00004: val_capsnet_acc improved from 0.87670 to 0.88241, saving model to /content/drive/My Drive/Colab Notebooks/mydata//weights-04.h5\n",
            "Epoch 5/40\n",
            "1071/1071 [==============================] - 13s 12ms/step - loss: 0.0202 - capsnet_loss: 0.0144 - decoder_loss: 0.0192 - capsnet_acc: 1.0000 - val_loss: 0.1474 - val_capsnet_loss: 0.1413 - val_decoder_loss: 0.0200 - val_capsnet_acc: 0.8823\n",
            "\n",
            "Epoch 00005: val_capsnet_acc did not improve from 0.88241\n",
            "Epoch 6/40\n",
            "1071/1071 [==============================] - 13s 12ms/step - loss: 0.0116 - capsnet_loss: 0.0061 - decoder_loss: 0.0179 - capsnet_acc: 1.0000 - val_loss: 0.1362 - val_capsnet_loss: 0.1305 - val_decoder_loss: 0.0191 - val_capsnet_acc: 0.8881\n",
            "\n",
            "Epoch 00006: val_capsnet_acc improved from 0.88241 to 0.88812, saving model to /content/drive/My Drive/Colab Notebooks/mydata//weights-06.h5\n",
            "Epoch 7/40\n",
            "1071/1071 [==============================] - 13s 12ms/step - loss: 0.0086 - capsnet_loss: 0.0033 - decoder_loss: 0.0177 - capsnet_acc: 1.0000 - val_loss: 0.1352 - val_capsnet_loss: 0.1295 - val_decoder_loss: 0.0190 - val_capsnet_acc: 0.8844\n",
            "\n",
            "Epoch 00007: val_capsnet_acc did not improve from 0.88812\n",
            "Epoch 8/40\n",
            "1071/1071 [==============================] - 13s 12ms/step - loss: 0.0075 - capsnet_loss: 0.0021 - decoder_loss: 0.0176 - capsnet_acc: 1.0000 - val_loss: 0.1343 - val_capsnet_loss: 0.1286 - val_decoder_loss: 0.0189 - val_capsnet_acc: 0.8801\n",
            "\n",
            "Epoch 00008: val_capsnet_acc did not improve from 0.88812\n",
            "Epoch 9/40\n",
            "1071/1071 [==============================] - 13s 12ms/step - loss: 0.0067 - capsnet_loss: 0.0014 - decoder_loss: 0.0176 - capsnet_acc: 1.0000 - val_loss: 0.1295 - val_capsnet_loss: 0.1239 - val_decoder_loss: 0.0188 - val_capsnet_acc: 0.8931\n",
            "\n",
            "Epoch 00009: val_capsnet_acc improved from 0.88812 to 0.89306, saving model to /content/drive/My Drive/Colab Notebooks/mydata//weights-09.h5\n",
            "Epoch 10/40\n",
            "1071/1071 [==============================] - 13s 12ms/step - loss: 0.0063 - capsnet_loss: 9.7763e-04 - decoder_loss: 0.0175 - capsnet_acc: 1.0000 - val_loss: 0.1283 - val_capsnet_loss: 0.1226 - val_decoder_loss: 0.0187 - val_capsnet_acc: 0.8852\n",
            "\n",
            "Epoch 00010: val_capsnet_acc did not improve from 0.89306\n",
            "Epoch 11/40\n",
            "1071/1071 [==============================] - 13s 12ms/step - loss: 0.0060 - capsnet_loss: 6.8050e-04 - decoder_loss: 0.0175 - capsnet_acc: 1.0000 - val_loss: 0.1261 - val_capsnet_loss: 0.1204 - val_decoder_loss: 0.0186 - val_capsnet_acc: 0.8844\n",
            "\n",
            "Epoch 00011: val_capsnet_acc did not improve from 0.89306\n",
            "Epoch 12/40\n",
            "1071/1071 [==============================] - 13s 12ms/step - loss: 0.0058 - capsnet_loss: 4.8654e-04 - decoder_loss: 0.0174 - capsnet_acc: 1.0000 - val_loss: 0.1210 - val_capsnet_loss: 0.1154 - val_decoder_loss: 0.0186 - val_capsnet_acc: 0.8931\n",
            "\n",
            "Epoch 00012: val_capsnet_acc did not improve from 0.89306\n",
            "Epoch 13/40\n",
            "1071/1071 [==============================] - 13s 12ms/step - loss: 0.0056 - capsnet_loss: 3.7295e-04 - decoder_loss: 0.0174 - capsnet_acc: 1.0000 - val_loss: 0.1241 - val_capsnet_loss: 0.1185 - val_decoder_loss: 0.0185 - val_capsnet_acc: 0.8849\n",
            "\n",
            "Epoch 00013: val_capsnet_acc did not improve from 0.89306\n",
            "Epoch 14/40\n",
            "1071/1071 [==============================] - 13s 12ms/step - loss: 0.0056 - capsnet_loss: 3.0412e-04 - decoder_loss: 0.0174 - capsnet_acc: 1.0000 - val_loss: 0.1197 - val_capsnet_loss: 0.1142 - val_decoder_loss: 0.0184 - val_capsnet_acc: 0.8898\n",
            "\n",
            "Epoch 00014: val_capsnet_acc did not improve from 0.89306\n",
            "Epoch 15/40\n",
            "1071/1071 [==============================] - 13s 12ms/step - loss: 0.0055 - capsnet_loss: 2.1128e-04 - decoder_loss: 0.0174 - capsnet_acc: 1.0000 - val_loss: 0.1205 - val_capsnet_loss: 0.1150 - val_decoder_loss: 0.0184 - val_capsnet_acc: 0.8883\n",
            "\n",
            "Epoch 00015: val_capsnet_acc did not improve from 0.89306\n",
            "Epoch 16/40\n",
            "1071/1071 [==============================] - 13s 12ms/step - loss: 0.0054 - capsnet_loss: 1.6849e-04 - decoder_loss: 0.0173 - capsnet_acc: 1.0000 - val_loss: 0.1185 - val_capsnet_loss: 0.1130 - val_decoder_loss: 0.0183 - val_capsnet_acc: 0.8927\n",
            "\n",
            "Epoch 00016: val_capsnet_acc did not improve from 0.89306\n",
            "Epoch 17/40\n",
            "1071/1071 [==============================] - 13s 12ms/step - loss: 0.0054 - capsnet_loss: 1.3305e-04 - decoder_loss: 0.0173 - capsnet_acc: 1.0000 - val_loss: 0.1179 - val_capsnet_loss: 0.1124 - val_decoder_loss: 0.0183 - val_capsnet_acc: 0.8889\n",
            "\n",
            "Epoch 00017: val_capsnet_acc did not improve from 0.89306\n",
            "Epoch 18/40\n",
            "1071/1071 [==============================] - 13s 12ms/step - loss: 0.0053 - capsnet_loss: 1.0773e-04 - decoder_loss: 0.0173 - capsnet_acc: 1.0000 - val_loss: 0.1178 - val_capsnet_loss: 0.1123 - val_decoder_loss: 0.0183 - val_capsnet_acc: 0.8898\n",
            "\n",
            "Epoch 00018: val_capsnet_acc did not improve from 0.89306\n",
            "Epoch 19/40\n",
            "1071/1071 [==============================] - 13s 12ms/step - loss: 0.0053 - capsnet_loss: 9.4810e-05 - decoder_loss: 0.0173 - capsnet_acc: 1.0000 - val_loss: 0.1173 - val_capsnet_loss: 0.1118 - val_decoder_loss: 0.0182 - val_capsnet_acc: 0.8877\n",
            "\n",
            "Epoch 00019: val_capsnet_acc did not improve from 0.89306\n",
            "Epoch 20/40\n",
            "1071/1071 [==============================] - 13s 12ms/step - loss: 0.0053 - capsnet_loss: 7.9815e-05 - decoder_loss: 0.0172 - capsnet_acc: 1.0000 - val_loss: 0.1201 - val_capsnet_loss: 0.1146 - val_decoder_loss: 0.0183 - val_capsnet_acc: 0.8829\n",
            "\n",
            "Epoch 00020: val_capsnet_acc did not improve from 0.89306\n",
            "Epoch 21/40\n",
            "1071/1071 [==============================] - 13s 12ms/step - loss: 0.0053 - capsnet_loss: 6.3141e-05 - decoder_loss: 0.0172 - capsnet_acc: 1.0000 - val_loss: 0.1156 - val_capsnet_loss: 0.1102 - val_decoder_loss: 0.0182 - val_capsnet_acc: 0.8904\n",
            "\n",
            "Epoch 00021: val_capsnet_acc did not improve from 0.89306\n",
            "Epoch 22/40\n",
            "1071/1071 [==============================] - 13s 12ms/step - loss: 0.0052 - capsnet_loss: 5.1655e-05 - decoder_loss: 0.0172 - capsnet_acc: 1.0000 - val_loss: 0.1169 - val_capsnet_loss: 0.1114 - val_decoder_loss: 0.0182 - val_capsnet_acc: 0.8915\n",
            "\n",
            "Epoch 00022: val_capsnet_acc did not improve from 0.89306\n",
            "Epoch 23/40\n",
            "1071/1071 [==============================] - 13s 12ms/step - loss: 0.0052 - capsnet_loss: 4.5515e-05 - decoder_loss: 0.0172 - capsnet_acc: 1.0000 - val_loss: 0.1160 - val_capsnet_loss: 0.1104 - val_decoder_loss: 0.0182 - val_capsnet_acc: 0.8897\n",
            "\n",
            "Epoch 00023: val_capsnet_acc did not improve from 0.89306\n",
            "Epoch 24/40\n",
            "1071/1071 [==============================] - 13s 12ms/step - loss: 0.0052 - capsnet_loss: 6.6398e-05 - decoder_loss: 0.0172 - capsnet_acc: 1.0000 - val_loss: 0.1281 - val_capsnet_loss: 0.1226 - val_decoder_loss: 0.0183 - val_capsnet_acc: 0.8659\n",
            "\n",
            "Epoch 00024: val_capsnet_acc did not improve from 0.89306\n",
            "Epoch 25/40\n",
            "1071/1071 [==============================] - 13s 12ms/step - loss: 0.0054 - capsnet_loss: 2.6545e-04 - decoder_loss: 0.0171 - capsnet_acc: 1.0000 - val_loss: 0.1246 - val_capsnet_loss: 0.1191 - val_decoder_loss: 0.0183 - val_capsnet_acc: 0.8718\n",
            "\n",
            "Epoch 00025: val_capsnet_acc did not improve from 0.89306\n",
            "Epoch 26/40\n",
            "1071/1071 [==============================] - 13s 12ms/step - loss: 0.0054 - capsnet_loss: 1.8491e-04 - decoder_loss: 0.0171 - capsnet_acc: 1.0000 - val_loss: 0.1268 - val_capsnet_loss: 0.1212 - val_decoder_loss: 0.0183 - val_capsnet_acc: 0.8688\n",
            "\n",
            "Epoch 00026: val_capsnet_acc did not improve from 0.89306\n",
            "Epoch 27/40\n",
            "1071/1071 [==============================] - 13s 12ms/step - loss: 0.0054 - capsnet_loss: 1.9660e-04 - decoder_loss: 0.0171 - capsnet_acc: 1.0000 - val_loss: 0.1314 - val_capsnet_loss: 0.1258 - val_decoder_loss: 0.0184 - val_capsnet_acc: 0.8605\n",
            "\n",
            "Epoch 00027: val_capsnet_acc did not improve from 0.89306\n",
            "Epoch 28/40\n",
            "1071/1071 [==============================] - 13s 12ms/step - loss: 0.0053 - capsnet_loss: 1.8246e-04 - decoder_loss: 0.0171 - capsnet_acc: 1.0000 - val_loss: 0.1254 - val_capsnet_loss: 0.1199 - val_decoder_loss: 0.0183 - val_capsnet_acc: 0.8748\n",
            "\n",
            "Epoch 00028: val_capsnet_acc did not improve from 0.89306\n",
            "Epoch 29/40\n",
            "1071/1071 [==============================] - 13s 12ms/step - loss: 0.0053 - capsnet_loss: 1.2946e-04 - decoder_loss: 0.0171 - capsnet_acc: 1.0000 - val_loss: 0.1183 - val_capsnet_loss: 0.1128 - val_decoder_loss: 0.0180 - val_capsnet_acc: 0.8819\n",
            "\n",
            "Epoch 00029: val_capsnet_acc did not improve from 0.89306\n",
            "Epoch 30/40\n",
            "1071/1071 [==============================] - 13s 12ms/step - loss: 0.0052 - capsnet_loss: 7.9890e-05 - decoder_loss: 0.0171 - capsnet_acc: 1.0000 - val_loss: 0.1181 - val_capsnet_loss: 0.1126 - val_decoder_loss: 0.0182 - val_capsnet_acc: 0.8832\n",
            "\n",
            "Epoch 00030: val_capsnet_acc did not improve from 0.89306\n",
            "Epoch 31/40\n",
            "1071/1071 [==============================] - 13s 12ms/step - loss: 0.0052 - capsnet_loss: 3.6914e-05 - decoder_loss: 0.0171 - capsnet_acc: 1.0000 - val_loss: 0.1172 - val_capsnet_loss: 0.1118 - val_decoder_loss: 0.0180 - val_capsnet_acc: 0.8818\n",
            "\n",
            "Epoch 00031: val_capsnet_acc did not improve from 0.89306\n",
            "Epoch 32/40\n",
            "1071/1071 [==============================] - 13s 12ms/step - loss: 0.0052 - capsnet_loss: 2.1167e-05 - decoder_loss: 0.0171 - capsnet_acc: 1.0000 - val_loss: 0.1167 - val_capsnet_loss: 0.1113 - val_decoder_loss: 0.0180 - val_capsnet_acc: 0.8863\n",
            "\n",
            "Epoch 00032: val_capsnet_acc did not improve from 0.89306\n",
            "Epoch 33/40\n",
            "1071/1071 [==============================] - 13s 12ms/step - loss: 0.0052 - capsnet_loss: 1.4059e-05 - decoder_loss: 0.0170 - capsnet_acc: 1.0000 - val_loss: 0.1160 - val_capsnet_loss: 0.1106 - val_decoder_loss: 0.0180 - val_capsnet_acc: 0.8863\n",
            "\n",
            "Epoch 00033: val_capsnet_acc did not improve from 0.89306\n",
            "Epoch 34/40\n",
            "1071/1071 [==============================] - 12s 12ms/step - loss: 0.0052 - capsnet_loss: 1.0678e-05 - decoder_loss: 0.0170 - capsnet_acc: 1.0000 - val_loss: 0.1159 - val_capsnet_loss: 0.1104 - val_decoder_loss: 0.0180 - val_capsnet_acc: 0.8901\n",
            "\n",
            "Epoch 00034: val_capsnet_acc did not improve from 0.89306\n",
            "Epoch 35/40\n",
            "1071/1071 [==============================] - 13s 12ms/step - loss: 0.0052 - capsnet_loss: 1.0402e-05 - decoder_loss: 0.0170 - capsnet_acc: 1.0000 - val_loss: 0.1171 - val_capsnet_loss: 0.1116 - val_decoder_loss: 0.0181 - val_capsnet_acc: 0.8858\n",
            "\n",
            "Epoch 00035: val_capsnet_acc did not improve from 0.89306\n",
            "Epoch 36/40\n",
            "1071/1071 [==============================] - 13s 12ms/step - loss: 0.0051 - capsnet_loss: 9.6799e-06 - decoder_loss: 0.0170 - capsnet_acc: 1.0000 - val_loss: 0.1162 - val_capsnet_loss: 0.1107 - val_decoder_loss: 0.0180 - val_capsnet_acc: 0.8873\n",
            "\n",
            "Epoch 00036: val_capsnet_acc did not improve from 0.89306\n",
            "Epoch 37/40\n",
            "1071/1071 [==============================] - 13s 12ms/step - loss: 0.0051 - capsnet_loss: 6.5265e-06 - decoder_loss: 0.0170 - capsnet_acc: 1.0000 - val_loss: 0.1150 - val_capsnet_loss: 0.1096 - val_decoder_loss: 0.0180 - val_capsnet_acc: 0.8890\n",
            "\n",
            "Epoch 00037: val_capsnet_acc did not improve from 0.89306\n",
            "Epoch 38/40\n",
            "1071/1071 [==============================] - 13s 12ms/step - loss: 0.0051 - capsnet_loss: 4.6666e-06 - decoder_loss: 0.0170 - capsnet_acc: 1.0000 - val_loss: 0.1152 - val_capsnet_loss: 0.1098 - val_decoder_loss: 0.0180 - val_capsnet_acc: 0.8878\n",
            "\n",
            "Epoch 00038: val_capsnet_acc did not improve from 0.89306\n",
            "Epoch 39/40\n",
            "1071/1071 [==============================] - 13s 12ms/step - loss: 0.0051 - capsnet_loss: 7.5260e-06 - decoder_loss: 0.0170 - capsnet_acc: 1.0000 - val_loss: 0.1143 - val_capsnet_loss: 0.1089 - val_decoder_loss: 0.0180 - val_capsnet_acc: 0.8895\n",
            "\n",
            "Epoch 00039: val_capsnet_acc did not improve from 0.89306\n",
            "Epoch 40/40\n",
            "1071/1071 [==============================] - 13s 12ms/step - loss: 0.0051 - capsnet_loss: 7.5558e-06 - decoder_loss: 0.0170 - capsnet_acc: 1.0000 - val_loss: 0.1145 - val_capsnet_loss: 0.1091 - val_decoder_loss: 0.0179 - val_capsnet_acc: 0.8889\n",
            "\n",
            "Epoch 00040: val_capsnet_acc did not improve from 0.89306\n",
            "Training completed in time:  0:08:46.994439\n"
          ]
        }
      ],
      "source": [
        "from datetime import datetime\n",
        "\n",
        "start = datetime.now()\n",
        "history = model.fit([X_train, y_train_encoded], [y_train_encoded, X_train], batch_size=64, epochs=40, validation_data=[[X_test, y_test_encoded], [y_test_encoded, X_test]], callbacks=[log, checkpoint])\n",
        "\n",
        "duration = datetime.now() - start\n",
        "print(\"Training completed in time: \", duration)\n",
        "\n",
        "#history = model.fit([X_train, y_train_encoded], [y_train_encoded, X_train], batch_size=64, epochs=20, validation_data=[[X_test, y_test_encoded], [y_test_encoded, X_test]], callbacks=[log, checkpoint, lr_decay])"
      ]
    },
    {
      "cell_type": "code",
      "execution_count": null,
      "metadata": {
        "colab": {
          "base_uri": "https://localhost:8080/",
          "height": 573
        },
        "id": "rggG428c92HI",
        "outputId": "8240b9f5-a461-4504-cf25-da219f5197c8"
      },
      "outputs": [
        {
          "data": {
            "image/png": "[encoded data removed]",
            "text/plain": [
              "<Figure size 432x288 with 1 Axes>"
            ]
          },
          "metadata": {},
          "output_type": "display_data"
        },
        {
          "data": {
            "image/png": "[encoded data removed]",
            "text/plain": [
              "<Figure size 432x288 with 1 Axes>"
            ]
          },
          "metadata": {},
          "output_type": "display_data"
        }
      ],
      "source": [
        "def plot_history(history):\n",
        "    acc = history.history['capsnet_acc']\n",
        "    val_acc = history.history['val_capsnet_acc']\n",
        "    loss = history.history['capsnet_loss']\n",
        "    val_loss = history.history['val_loss']\n",
        "\n",
        "    epochs = range(1, len(acc) + 1)\n",
        "\n",
        "    plt.figure()\n",
        "    plt.plot(epochs, acc, 'b', color='blue',label='Training Accuracy')\n",
        "    plt.plot(epochs, val_acc, 'b', color='red', label='Validation Accuracy')\n",
        "    plt.title('Training & Validation Accuracy')\n",
        "    plt.ylabel('accuracy')\n",
        "    plt.xlabel('epoch')\n",
        "    plt.legend()\n",
        "\n",
        "    plt.figure()\n",
        "    plt.plot(epochs, loss, 'b',color='blue', label='Training Loss')\n",
        "    plt.plot(epochs, val_loss, 'b', color='red', label='Validation Loss')\n",
        "    plt.title('Training & Validation loss')\n",
        "    plt.legend()\n",
        "    plt.ylabel('loss')\n",
        "    plt.xlabel('epoch')\n",
        "    plt.show()\n",
        "    return acc, val_acc, loss, val_loss\n",
        "\n",
        "\n",
        "acc, val_acc, loss, val_loss = plot_history(history)"
      ]
    },
    {
      "cell_type": "code",
      "execution_count": null,
      "metadata": {
        "colab": {
          "base_uri": "https://localhost:8080/",
          "height": 535
        },
        "id": "kAcca68VPlCg",
        "outputId": "ce57f837-e6c3-4793-f91b-9b3b3238026a"
      },
      "outputs": [
        {
          "name": "stdout",
          "output_type": "stream",
          "text": [
            "[name: \"/device:CPU:0\"\n",
            "device_type: \"CPU\"\n",
            "memory_limit: 268435456\n",
            "locality {\n",
            "}\n",
            "incarnation: 13821572176452313456\n",
            ", name: \"/device:XLA_CPU:0\"\n",
            "device_type: \"XLA_CPU\"\n",
            "memory_limit: 17179869184\n",
            "locality {\n",
            "}\n",
            "incarnation: 5859798473145141091\n",
            "physical_device_desc: \"device: XLA_CPU device\"\n",
            ", name: \"/device:XLA_GPU:0\"\n",
            "device_type: \"XLA_GPU\"\n",
            "memory_limit: 17179869184\n",
            "locality {\n",
            "}\n",
            "incarnation: 2031683368996366281\n",
            "physical_device_desc: \"device: XLA_GPU device\"\n",
            ", name: \"/device:GPU:0\"\n",
            "device_type: \"GPU\"\n",
            "memory_limit: 14912199066\n",
            "locality {\n",
            "  bus_id: 1\n",
            "  links {\n",
            "  }\n",
            "}\n",
            "incarnation: 11209550925964278766\n",
            "physical_device_desc: \"device: 0, name: Tesla T4, pci bus id: 0000:00:04.0, compute capability: 7.5\"\n",
            "]\n"
          ]
        }
      ],
      "source": [
        "#GPU INFO-not working on 1.15\n",
        "\n",
        "from tensorflow.python.client import device_lib\n",
        "print(device_lib.list_local_devices())"
      ]
    },
    {
      "cell_type": "code",
      "execution_count": null,
      "metadata": {
        "id": "cfH8jygFRrkX"
      },
      "outputs": [],
      "source": [
        "#Save last weights\n",
        "model_last_file = 'lastweights-capsnet-nb3.hdf5'\n",
        "models_path = os.path.abspath('/content/drive/My Drive/Colab Notebooks/mydata/')\n",
        "model_last_path = os.path.join(models_path, model_last_file)\n",
        "\n",
        "model.save(model_last_path,overwrite= True, include_optimizer=True)"
      ]
    },
    {
      "cell_type": "code",
      "execution_count": null,
      "metadata": {
        "id": "5aeungrSB_8m"
      },
      "outputs": [],
      "source": [
        "#Load best epoch weights\n",
        "model_best_file = \"weights-09.h5\"  # File 27 has 90 percent\n",
        "\n",
        "models_path = os.path.abspath('/content/drive/My Drive/Colab Notebooks/mydata/')\n",
        "model_last_path = os.path.join(models_path, model_best_file)\n",
        "model.load_weights(model_last_path)"
      ]
    },
    {
      "cell_type": "code",
      "execution_count": null,
      "metadata": {
        "id": "PZP8DdKGHdwC"
      },
      "outputs": [],
      "source": [
        "def test(model, data):\n",
        "    x_test, y_test = data\n",
        "    y_pred, x_recon = model.predict(x_test, batch_size=64)\n",
        "    print('-'*30 + 'Begin: test' + '-'*30)\n",
        "    correct = np.sum(np.argmax(y_pred, 1) == np.argmax(y_test, 1))\n",
        "    total = y_test.shape[0]\n",
        "    #accur = np.sum(np.argmax(y_pred, 1) == np.argmax(y_test, 1))/y_test.shape[0]\n",
        "    accur = correct/total\n",
        "    #print('Test acc:', accur)\n",
        "    print('Correct:{:>5},Total:{:>10}, Accuracy{:>14.4f}'.format( correct,total, 100 * accur)) \n",
        "    return (accur)"
      ]
    },
    {
      "cell_type": "code",
      "execution_count": null,
      "metadata": {
        "colab": {
          "base_uri": "https://localhost:8080/"
        },
        "id": "8smo0kkBKQ1r",
        "outputId": "e462ffe2-3ee1-4515-9f3b-9954ea5eb5a2"
      },
      "outputs": [
        {
          "output_type": "stream",
          "name": "stdout",
          "text": [
            "------------------------------Begin: test------------------------------\n",
            "Correct: 5787,Total:      6480, Accuracy       89.3056\n"
          ]
        },
        {
          "output_type": "execute_result",
          "data": {
            "text/plain": [
              "0.8930555555555556"
            ]
          },
          "metadata": {},
          "execution_count": 149
        }
      ],
      "source": [
        " test(model=eval_model, data=(X_test, y_test_encoded))"
      ]
    },
    {
      "cell_type": "code",
      "execution_count": null,
      "metadata": {
        "colab": {
          "base_uri": "https://localhost:8080/"
        },
        "id": "uWVDusrmq1BD",
        "outputId": "23c6a8fc-21d9-4e81-ab9a-dbd7dfc2b076"
      },
      "outputs": [
        {
          "output_type": "execute_result",
          "data": {
            "text/plain": [
              "array(['0', '0', '0', ..., '8', '8', '8'], dtype='<U32')"
            ]
          },
          "metadata": {},
          "execution_count": 150
        }
      ],
      "source": [
        "new_Ytest = tst_y[:,2]\n",
        "new_Ytest"
      ]
    },
    {
      "cell_type": "code",
      "execution_count": null,
      "metadata": {
        "id": "9C08vVzYrFQM"
      },
      "outputs": [],
      "source": [
        "model=eval_model\n",
        "y_pred, x_recon = model.predict(X_test,batch_size=64)\n"
      ]
    },
    {
      "cell_type": "code",
      "execution_count": null,
      "metadata": {
        "id": "6kR6fRZT4ZEF"
      },
      "outputs": [],
      "source": [
        "# Get predicted labels\n",
        "yhat_pred = np.argmax(y_pred, axis=1)\n",
        "y_trues = np.argmax(y_test_encoded, axis=1)\n"
      ]
    },
    {
      "cell_type": "code",
      "execution_count": null,
      "metadata": {
        "colab": {
          "base_uri": "https://localhost:8080/"
        },
        "id": "thDBg093GSmb",
        "outputId": "ac28ef3c-6d5d-4ef9-e5e5-78fd301ce248"
      },
      "outputs": [
        {
          "output_type": "stream",
          "name": "stdout",
          "text": [
            "              precision    recall  f1-score   support\n",
            "\n",
            "           0       0.91      0.94      0.93       216\n",
            "           1       0.99      0.92      0.95       216\n",
            "           2       0.97      0.88      0.93       216\n",
            "           3       0.89      0.87      0.88       216\n",
            "           4       0.99      0.57      0.73       216\n",
            "           5       0.93      1.00      0.96       216\n",
            "           6       0.62      0.85      0.71       216\n",
            "           7       0.94      0.85      0.89       216\n",
            "           8       0.89      0.95      0.92       216\n",
            "           9       0.92      0.96      0.94       216\n",
            "          10       0.89      0.96      0.92       216\n",
            "          11       1.00      0.92      0.96       216\n",
            "          12       0.89      0.84      0.86       216\n",
            "          13       1.00      0.98      0.99       216\n",
            "          14       0.97      0.87      0.91       216\n",
            "          15       0.72      0.78      0.75       216\n",
            "          16       0.93      0.92      0.93       216\n",
            "          17       0.92      0.96      0.94       216\n",
            "          18       0.64      0.83      0.72       216\n",
            "          19       0.82      0.90      0.86       216\n",
            "          20       0.98      1.00      0.99       216\n",
            "          21       0.95      0.99      0.97       216\n",
            "          22       0.83      0.94      0.88       216\n",
            "          23       0.74      0.59      0.66       216\n",
            "          24       0.96      0.96      0.96       216\n",
            "          25       0.98      1.00      0.99       216\n",
            "          26       0.99      0.91      0.95       216\n",
            "          27       1.00      0.89      0.94       216\n",
            "          28       0.88      0.81      0.85       216\n",
            "          29       0.92      0.96      0.94       216\n",
            "\n",
            "    accuracy                           0.89      6480\n",
            "   macro avg       0.90      0.89      0.89      6480\n",
            "weighted avg       0.90      0.89      0.89      6480\n",
            "\n"
          ]
        }
      ],
      "source": [
        "re =classification_report(y_trues, yhat_pred)\n",
        "print(re)"
      ]
    },
    {
      "cell_type": "code",
      "execution_count": null,
      "metadata": {
        "colab": {
          "base_uri": "https://localhost:8080/",
          "height": 136
        },
        "id": "TnNqNvbL7caf",
        "outputId": "d77566d9-f273-4dfd-c23b-82d5dc1ebb72"
      },
      "outputs": [
        {
          "data": {
            "application/vnd.google.colaboratory.intrinsic": {
              "type": "string"
            },
            "text/plain": [
              "'              precision    recall  f1-score   support\\n\\n           0       0.92      0.97      0.94       216\\n           1       0.99      0.92      0.95       216\\n           2       1.00      0.84      0.91       216\\n           3       0.93      0.94      0.93       216\\n           4       0.98      0.60      0.74       216\\n           5       0.98      1.00      0.99       216\\n           6       0.59      0.83      0.69       216\\n           7       0.91      0.91      0.91       216\\n           8       0.92      0.99      0.95       216\\n           9       0.98      0.94      0.96       216\\n          10       0.91      0.98      0.94       216\\n          11       1.00      0.96      0.98       216\\n          12       0.95      0.72      0.82       216\\n          13       0.99      0.97      0.98       216\\n          14       0.92      0.90      0.91       216\\n          15       0.89      0.75      0.82       216\\n          16       0.85      0.94      0.89       216\\n          17       0.90      0.90      0.90       216\\n          18       0.65      0.83      0.73       216\\n          19       0.85      0.98      0.91       216\\n          20       1.00      1.00      1.00       216\\n          21       0.99      0.97      0.98       216\\n          22       0.84      0.90      0.87       216\\n          23       0.64      0.58      0.61       216\\n          24       0.90      0.98      0.94       216\\n          25       0.96      1.00      0.98       216\\n          26       0.99      0.95      0.97       216\\n          27       1.00      0.92      0.96       216\\n          28       0.89      0.83      0.86       216\\n          29       0.98      1.00      0.99       216\\n\\n    accuracy                           0.90      6480\\n   macro avg       0.91      0.90      0.90      6480\\nweighted avg       0.91      0.90      0.90      6480\\n'"
            ]
          },
          "execution_count": 78,
          "metadata": {
            "tags": []
          },
          "output_type": "execute_result"
        }
      ],
      "source": [
        "# Build classification report\n",
        "from sklearn.metrics import classification_report\n",
        "\n",
        "classification_report(y_trues, yhat_pred)\n",
        "\n"
      ]
    },
    {
      "cell_type": "code",
      "execution_count": null,
      "metadata": {
        "colab": {
          "base_uri": "https://localhost:8080/",
          "height": 33
        },
        "id": "SxC9AGYAoike",
        "outputId": "56685f97-1874-473a-fed6-b2a78e1ef265"
      },
      "outputs": [
        {
          "name": "stdout",
          "output_type": "stream",
          "text": [
            "Capsnet: ROC AUC=0.993\n"
          ]
        }
      ],
      "source": [
        "from sklearn.metrics import roc_curve\n",
        "from sklearn.metrics import roc_auc_score\n",
        "\n",
        "lr_auc = roc_auc_score(y_test_encoded, y_pred)\n",
        "# summarize scores\n",
        "\n",
        "print('Capsnet: ROC AUC=%.3f' % (lr_auc))"
      ]
    },
    {
      "cell_type": "code",
      "source": [
        "import matplotlib.pyplot as plt\n",
        "from sklearn.metrics import confusion_matrix, plot_confusion_matrix\n",
        "\n",
        "\n",
        "cm = confusion_matrix(y_trues, yhat_pred) \n",
        "#Create a Confusion Matrix heatmap from the above data\n",
        "import seaborn as sns\n",
        "fig, ax = plt.subplots(figsize=(15,15))\n",
        "sns.set(font_scale=1.0)#for label size\n",
        "ax =sns.heatmap(cm.astype('int'), annot=True, annot_kws={\"size\": 7},fmt=\".1f\")\n",
        "ax.set(xlabel='Predicted label', ylabel='True label')"
      ],
      "metadata": {
        "id": "2LveFmpLQC9l",
        "outputId": "ca5d1c26-2909-4d91-bbc1-e15b07c7d87e",
        "colab": {
          "base_uri": "https://localhost:8080/",
          "height": 900
        }
      },
      "execution_count": null,
      "outputs": [
        {
          "output_type": "execute_result",
          "data": {
            "text/plain": [
              "[Text(111.5, 0.5, 'True label'), Text(0.5, 111.5, 'Predicted label')]"
            ]
          },
          "metadata": {},
          "execution_count": 154
        },
        {
          "output_type": "display_data",
          "data": {
            "image/png": "[encoded data removed]",
            "text/plain": [
              "<Figure size 1080x1080 with 2 Axes>"
            ]
          },
          "metadata": {}
        }
      ]
    },
    {
      "cell_type": "code",
      "execution_count": null,
      "metadata": {
        "colab": {
          "base_uri": "https://localhost:8080/",
          "height": 894
        },
        "id": "W-cnIqaS81p2",
        "outputId": "2f33976b-1716-4873-f78b-35a4fb9b0f55"
      },
      "outputs": [
        {
          "output_type": "execute_result",
          "data": {
            "text/plain": [
              "[Text(114.0, 0.5, 'True label'), Text(0.5, 114.0, 'Predicted label')]"
            ]
          },
          "metadata": {},
          "execution_count": 40
        },
        {
          "output_type": "display_data",
          "data": {
            "image/png": "[encoded data removed]",
            "text/plain": [
              "<Figure size 1080x1080 with 2 Axes>"
            ]
          },
          "metadata": {
            "needs_background": "light"
          }
        }
      ],
      "source": [
        "import matplotlib.pyplot as plt\n",
        "from sklearn.metrics import confusion_matrix, plot_confusion_matrix\n",
        "\n",
        "\n",
        "cm = confusion_matrix(y_trues, yhat_pred) \n",
        "#Create a Confusion Matrix heatmap from the above data\n",
        "import seaborn as sns\n",
        "fig, ax = plt.subplots(figsize=(15,15))\n",
        "sns.set(font_scale=1.0)#for label size\n",
        "ax =sns.heatmap(cm.astype('int'), annot=True, annot_kws={\"size\": 7},fmt=\".1f\")\n",
        "ax.set(xlabel='Predicted label', ylabel='True label')"
      ]
    },
    {
      "cell_type": "markdown",
      "metadata": {
        "id": "nXBp5lrUM36h"
      },
      "source": [
        "Model evaluation Now let's see how the model performs predicting the different classes using data from the test set, data that has not been used to train the model.\n",
        "\n",
        "Register model output"
      ]
    },
    {
      "cell_type": "code",
      "execution_count": null,
      "metadata": {
        "colab": {
          "base_uri": "https://localhost:8080/"
        },
        "id": "xagVtvzH7Dwi",
        "outputId": "303988da-7224-4227-d7f8-289dcdb75dcd"
      },
      "outputs": [
        {
          "name": "stdout",
          "output_type": "stream",
          "text": [
            "                ACCURACY\n",
            "------------------------------Begin: test------------------------------\n",
            "Correct:  666,Total:      1071, Accuracy       62.1849\n",
            "ang              62.1849\n",
            "------------------------------Begin: test------------------------------\n",
            "Correct:  859,Total:      1080, Accuracy       79.5370\n",
            "hap              79.5370\n",
            "------------------------------Begin: test------------------------------\n",
            "Correct:  957,Total:      1080, Accuracy       88.6111\n",
            "dis              88.6111\n",
            "------------------------------Begin: test------------------------------\n",
            "Correct:  951,Total:      1080, Accuracy       88.0556\n",
            "sad              88.0556\n",
            "------------------------------Begin: test------------------------------\n",
            "Correct:  977,Total:      1062, Accuracy       91.9962\n",
            "neu              91.9962\n",
            "------------------------------Begin: test------------------------------\n",
            "Correct:  868,Total:      1080, Accuracy       80.3704\n",
            "fea              80.3704\n"
          ]
        }
      ],
      "source": [
        "from sklearn.metrics import accuracy_score\n",
        "\n",
        "emotions_intlist=['ang','hap','dis','sad','neu','fea']\n",
        "result =[]\n",
        "tst_X_emotlist =[]\n",
        "tst_y_emotlist = []\n",
        "# Pint Train vs Test report\n",
        "print('{:<10s}{:>14s}'.format(\"\", \"ACCURACY\"))\n",
        "for emo in emotions_intlist:\n",
        "    result = np.where(tst_y[:,1] == emo)\n",
        "    tst_X_emotlist =[]\n",
        "    tst_y_emotlist = []\n",
        "    for ind in result[0]:\n",
        "        tst_X_emotlist.append(tst_X[ind])\n",
        "        tst_X_emot = np.array(tst_X_emotlist)\n",
        "        tst_X_emo = tst_X_emot.reshape(tst_X_emot.shape[0], num_rows, num_columns, num_channels)\n",
        "        tst_y_emotlist.append(tst_y[ind,2])\n",
        "        tst_y_emot = np.array(tst_y_emotlist)\n",
        "    \n",
        "    y_test_encoded_emot = to_categorical(le.fit_transform(tst_y_emot))\n",
        "    acc = test(model=eval_model, data=(tst_X_emo, y_test_encoded_emot))\n",
        "    model=eval_model\n",
        "    y_pred, x_recon = model.predict(tst_X_emo,batch_size=64)\n",
        "    #yhat_pred = np.argmax(y_pred, axis=1)\n",
        "    #y_trues = np.argmax(y_test_encoded_emot, axis=1)\n",
        "    #re =classification_report(y_trues, yhat_pred)\n",
        "    #print(re)\n",
        "    #lr_auc = roc_auc_score(y_test_encoded_emot, y_pred)\n",
        "    #print('Capsnet: ROC AUC=%.3f' % (lr_auc))\n",
        "    print('{:<10s}{:>14.4f}'.format( emo, 100 * acc))"
      ]
    },
    {
      "cell_type": "code",
      "execution_count": null,
      "metadata": {
        "colab": {
          "base_uri": "https://localhost:8080/",
          "height": 435
        },
        "id": "YE5KrcZ2L_Hj",
        "outputId": "d970aa50-1609-4df6-ffa7-cf55d6cfb8d0"
      },
      "outputs": [
        {
          "name": "stdout",
          "output_type": "stream",
          "text": [
            "                ACCURACY\n",
            "------------------------------Begin: test------------------------------\n",
            "Correct:  826,Total:      1071, Accuracy       77.1242\n",
            "Capsnet: ROC AUC=0.972\n",
            "ang              77.1242\n",
            "------------------------------Begin: test------------------------------\n",
            "Correct:  953,Total:      1080, Accuracy       88.2407\n",
            "Capsnet: ROC AUC=0.994\n",
            "hap              88.2407\n",
            "------------------------------Begin: test------------------------------\n",
            "Correct: 1005,Total:      1080, Accuracy       93.0556\n",
            "Capsnet: ROC AUC=0.997\n",
            "dis              93.0556\n",
            "------------------------------Begin: test------------------------------\n",
            "Correct: 1002,Total:      1080, Accuracy       92.7778\n",
            "Capsnet: ROC AUC=0.999\n",
            "sad              92.7778\n",
            "------------------------------Begin: test------------------------------\n",
            "Correct: 1047,Total:      1071, Accuracy       97.7591\n",
            "Capsnet: ROC AUC=0.999\n",
            "neu              97.7591\n",
            "------------------------------Begin: test------------------------------\n",
            "Correct:  984,Total:      1080, Accuracy       91.1111\n",
            "Capsnet: ROC AUC=0.994\n",
            "fea              91.1111\n"
          ]
        }
      ],
      "source": [
        "#Prev Results\n",
        "\n",
        "from sklearn.metrics import accuracy_score\n",
        "\n",
        "emotions_intlist=['ang','hap','dis','sad','neu','fea']\n",
        "result =[]\n",
        "tst_X_emotlist =[]\n",
        "tst_y_emotlist = []\n",
        "# Pint Train vs Test report\n",
        "print('{:<10s}{:>14s}'.format(\"\", \"ACCURACY\"))\n",
        "for emo in emotions_intlist:\n",
        "    result = np.where(tst_y[:,1] == emo)\n",
        "    tst_X_emotlist =[]\n",
        "    tst_y_emotlist = []\n",
        "    for ind in result[0]:\n",
        "        tst_X_emotlist.append(tst_X[ind])\n",
        "        tst_X_emot = np.array(tst_X_emotlist)\n",
        "        tst_X_emo = tst_X_emot.reshape(tst_X_emot.shape[0], num_rows, num_columns, num_channels)\n",
        "        tst_y_emotlist.append(tst_y[ind,2])\n",
        "        tst_y_emot = np.array(tst_y_emotlist)\n",
        "    \n",
        "    y_test_encoded_emot = to_categorical(le.fit_transform(tst_y_emot))\n",
        "    acc = test(model=eval_model, data=(tst_X_emo, y_test_encoded_emot))\n",
        "    model=eval_model\n",
        "    y_pred, x_recon = model.predict(tst_X_emo,batch_size=64)\n",
        "    #yhat_pred = np.argmax(y_pred, axis=1)\n",
        "    #y_trues = np.argmax(y_test_encoded_emot, axis=1)\n",
        "    #re =classification_report(y_trues, yhat_pred)\n",
        "    #print(re)\n",
        "    lr_auc = roc_auc_score(y_test_encoded_emot, y_pred)\n",
        "    print('Capsnet: ROC AUC=%.3f' % (lr_auc))\n",
        "    print('{:<10s}{:>14.4f}'.format( emo, 100 * acc))    "
      ]
    },
    {
      "cell_type": "code",
      "execution_count": null,
      "metadata": {
        "id": "y4BAE_gWL_WI"
      },
      "outputs": [],
      "source": [
        ""
      ]
    },
    {
      "cell_type": "code",
      "execution_count": null,
      "metadata": {
        "id": "B2T2tDfLL_1x"
      },
      "outputs": [],
      "source": [
        "# roc curve and auc\n",
        "from sklearn.datasets import make_classification\n",
        "from sklearn.linear_model import LogisticRegression\n",
        "from sklearn.model_selection import train_test_split\n",
        "from sklearn.metrics import roc_curve\n",
        "from sklearn.metrics import roc_auc_score\n",
        "from matplotlib import pyplot\n",
        "# generate 2 class dataset\n",
        "X, y = make_classification(n_samples=1000, n_classes=2, random_state=1)\n",
        "# split into train/test sets\n",
        "trainX, testX, trainy, testy = train_test_split(X, y, test_size=0.5, random_state=2)\n",
        "# generate a no skill prediction (majority class)\n",
        "ns_probs = [0 for _ in range(len(testy))]\n",
        "# fit a model\n",
        "model = LogisticRegression(solver='lbfgs')\n",
        "model.fit(trainX, trainy)\n",
        "# predict probabilities\n",
        "lr_probs = model.predict_proba(testX)\n",
        "\n"
      ]
    },
    {
      "cell_type": "code",
      "execution_count": null,
      "metadata": {
        "colab": {
          "base_uri": "https://localhost:8080/",
          "height": 1000
        },
        "id": "mYoeZk2od8Sc",
        "outputId": "54781cfe-4e3b-4d59-cf7d-1126262f6fa5"
      },
      "outputs": [
        {
          "data": {
            "text/plain": [
              "(array([[4.02731514e-03, 9.95972685e-01],\n",
              "        [2.00515726e-03, 9.97994843e-01],\n",
              "        [9.94701169e-01, 5.29883066e-03],\n",
              "        [8.47625806e-01, 1.52374194e-01],\n",
              "        [1.66665036e-03, 9.98333350e-01],\n",
              "        [4.99938552e-01, 5.00061448e-01],\n",
              "        [9.80236861e-01, 1.97631392e-02],\n",
              "        [9.76536616e-01, 2.34633843e-02],\n",
              "        [1.79993032e-02, 9.82000697e-01],\n",
              "        [2.93534820e-01, 7.06465180e-01],\n",
              "        [9.95837980e-01, 4.16201961e-03],\n",
              "        [2.53553400e-01, 7.46446600e-01],\n",
              "        [9.92334325e-01, 7.66567488e-03],\n",
              "        [3.80412811e-02, 9.61958719e-01],\n",
              "        [6.47854323e-02, 9.35214568e-01],\n",
              "        [1.92346446e-01, 8.07653554e-01],\n",
              "        [8.55196114e-01, 1.44803886e-01],\n",
              "        [4.34676792e-02, 9.56532321e-01],\n",
              "        [8.43042493e-01, 1.56957507e-01],\n",
              "        [5.50912415e-02, 9.44908759e-01],\n",
              "        [1.32992380e-01, 8.67007620e-01],\n",
              "        [5.89717936e-01, 4.10282064e-01],\n",
              "        [9.79518433e-01, 2.04815673e-02],\n",
              "        [3.32906248e-01, 6.67093752e-01],\n",
              "        [9.95736653e-01, 4.26334713e-03],\n",
              "        [4.33055309e-02, 9.56694469e-01],\n",
              "        [3.07422638e-01, 6.92577362e-01],\n",
              "        [5.59324053e-03, 9.94406759e-01],\n",
              "        [9.75084001e-01, 2.49159988e-02],\n",
              "        [4.49457316e-01, 5.50542684e-01],\n",
              "        [2.07785487e-01, 7.92214513e-01],\n",
              "        [1.84757702e-01, 8.15242298e-01],\n",
              "        [9.18170814e-01, 8.18291856e-02],\n",
              "        [1.76682001e-01, 8.23317999e-01],\n",
              "        [9.84648313e-01, 1.53516867e-02],\n",
              "        [9.20120147e-01, 7.98798532e-02],\n",
              "        [1.24480631e-02, 9.87551937e-01],\n",
              "        [6.30765357e-02, 9.36923464e-01],\n",
              "        [1.36601776e-02, 9.86339822e-01],\n",
              "        [6.80681339e-01, 3.19318661e-01],\n",
              "        [9.90174236e-01, 9.82576369e-03],\n",
              "        [9.61727720e-01, 3.82722802e-02],\n",
              "        [9.01636471e-01, 9.83635286e-02],\n",
              "        [1.62197791e-02, 9.83780221e-01],\n",
              "        [9.93462624e-01, 6.53737641e-03],\n",
              "        [4.70469377e-01, 5.29530623e-01],\n",
              "        [4.98383392e-01, 5.01616608e-01],\n",
              "        [2.23906964e-03, 9.97760930e-01],\n",
              "        [9.91590392e-01, 8.40960809e-03],\n",
              "        [8.57917175e-01, 1.42082825e-01],\n",
              "        [9.77806520e-01, 2.21934800e-02],\n",
              "        [3.52213220e-01, 6.47786780e-01],\n",
              "        [2.08849265e-02, 9.79115074e-01],\n",
              "        [7.67057617e-01, 2.32942383e-01],\n",
              "        [9.49079469e-01, 5.09205311e-02],\n",
              "        [9.62237163e-02, 9.03776284e-01],\n",
              "        [9.37919254e-01, 6.20807462e-02],\n",
              "        [9.32198456e-01, 6.78015442e-02],\n",
              "        [9.45404972e-01, 5.45950280e-02],\n",
              "        [3.81113284e-01, 6.18886716e-01],\n",
              "        [1.46594008e-01, 8.53405992e-01],\n",
              "        [9.52427117e-01, 4.75728835e-02],\n",
              "        [3.96973040e-01, 6.03026960e-01],\n",
              "        [9.71215452e-01, 2.87845483e-02],\n",
              "        [9.64612202e-01, 3.53877982e-02],\n",
              "        [8.77140408e-01, 1.22859592e-01],\n",
              "        [6.20173986e-01, 3.79826014e-01],\n",
              "        [9.96008273e-01, 3.99172706e-03],\n",
              "        [3.74214135e-01, 6.25785865e-01],\n",
              "        [1.63866619e-01, 8.36133381e-01],\n",
              "        [8.97995540e-01, 1.02004460e-01],\n",
              "        [9.72107610e-01, 2.78923900e-02],\n",
              "        [5.07180055e-02, 9.49281995e-01],\n",
              "        [1.09213005e-01, 8.90786995e-01],\n",
              "        [9.85544520e-03, 9.90144555e-01],\n",
              "        [3.50737113e-04, 9.99649263e-01],\n",
              "        [9.15980720e-01, 8.40192803e-02],\n",
              "        [3.13036705e-01, 6.86963295e-01],\n",
              "        [9.57229480e-01, 4.27705204e-02],\n",
              "        [8.40243624e-01, 1.59756376e-01],\n",
              "        [9.98526849e-01, 1.47315054e-03],\n",
              "        [9.64945522e-01, 3.50544785e-02],\n",
              "        [2.07272796e-01, 7.92727204e-01],\n",
              "        [9.97404284e-01, 2.59571555e-03],\n",
              "        [6.14743510e-02, 9.38525649e-01],\n",
              "        [7.22873283e-01, 2.77126717e-01],\n",
              "        [2.41426181e-02, 9.75857382e-01],\n",
              "        [4.71766274e-01, 5.28233726e-01],\n",
              "        [6.07397365e-02, 9.39260264e-01],\n",
              "        [1.87526618e-02, 9.81247338e-01],\n",
              "        [1.34909244e-01, 8.65090756e-01],\n",
              "        [2.90214765e-02, 9.70978524e-01],\n",
              "        [1.98135768e-01, 8.01864232e-01],\n",
              "        [8.53786405e-02, 9.14621360e-01],\n",
              "        [3.21901518e-01, 6.78098482e-01],\n",
              "        [3.48131092e-01, 6.51868908e-01],\n",
              "        [9.60412132e-01, 3.95878680e-02],\n",
              "        [4.29459204e-01, 5.70540796e-01],\n",
              "        [7.48190437e-01, 2.51809563e-01],\n",
              "        [7.27046891e-02, 9.27295311e-01],\n",
              "        [4.11257093e-02, 9.58874291e-01],\n",
              "        [8.92140493e-01, 1.07859507e-01],\n",
              "        [1.37793712e-01, 8.62206288e-01],\n",
              "        [9.83778036e-01, 1.62219637e-02],\n",
              "        [6.82164461e-01, 3.17835539e-01],\n",
              "        [4.99438248e-01, 5.00561752e-01],\n",
              "        [1.77677303e-01, 8.22322697e-01],\n",
              "        [9.27003410e-01, 7.29965896e-02],\n",
              "        [1.23387576e-01, 8.76612424e-01],\n",
              "        [5.91440080e-01, 4.08559920e-01],\n",
              "        [5.99874022e-01, 4.00125978e-01],\n",
              "        [1.91941077e-01, 8.08058923e-01],\n",
              "        [5.78180760e-02, 9.42181924e-01],\n",
              "        [5.44246339e-01, 4.55753661e-01],\n",
              "        [9.95428044e-01, 4.57195564e-03],\n",
              "        [1.20343778e-01, 8.79656222e-01],\n",
              "        [1.16388165e-02, 9.88361184e-01],\n",
              "        [8.55416321e-01, 1.44583679e-01],\n",
              "        [9.41550279e-01, 5.84497209e-02],\n",
              "        [2.37087687e-01, 7.62912313e-01],\n",
              "        [9.15063177e-01, 8.49368226e-02],\n",
              "        [9.14426205e-01, 8.55737954e-02],\n",
              "        [9.99746910e-01, 2.53090412e-04],\n",
              "        [7.69474452e-01, 2.30525548e-01],\n",
              "        [3.97680287e-01, 6.02319713e-01],\n",
              "        [5.68475010e-02, 9.43152499e-01],\n",
              "        [7.97144727e-02, 9.20285527e-01],\n",
              "        [4.30374806e-01, 5.69625194e-01],\n",
              "        [4.39565813e-01, 5.60434187e-01],\n",
              "        [1.42338844e-01, 8.57661156e-01],\n",
              "        [7.90829975e-01, 2.09170025e-01],\n",
              "        [2.85502930e-01, 7.14497070e-01],\n",
              "        [9.98146146e-01, 1.85385351e-03],\n",
              "        [8.27946563e-01, 1.72053437e-01],\n",
              "        [9.53456920e-01, 4.65430795e-02],\n",
              "        [2.44818967e-01, 7.55181033e-01],\n",
              "        [6.93126220e-01, 3.06873780e-01],\n",
              "        [9.96382240e-01, 3.61776050e-03],\n",
              "        [2.53696997e-01, 7.46303003e-01],\n",
              "        [5.65427951e-01, 4.34572049e-01],\n",
              "        [1.83726361e-01, 8.16273639e-01],\n",
              "        [9.09429213e-03, 9.90905708e-01],\n",
              "        [4.60021681e-02, 9.53997832e-01],\n",
              "        [7.92205601e-01, 2.07794399e-01],\n",
              "        [9.92739595e-01, 7.26040531e-03],\n",
              "        [9.84263818e-01, 1.57361816e-02],\n",
              "        [9.59524380e-01, 4.04756204e-02],\n",
              "        [6.74661905e-02, 9.32533809e-01],\n",
              "        [8.43388402e-02, 9.15661160e-01],\n",
              "        [9.96116401e-01, 3.88359914e-03],\n",
              "        [1.21908856e-01, 8.78091144e-01],\n",
              "        [6.80112228e-01, 3.19887772e-01],\n",
              "        [9.72944193e-01, 2.70558068e-02],\n",
              "        [8.33621512e-01, 1.66378488e-01],\n",
              "        [2.33636087e-03, 9.97663639e-01],\n",
              "        [4.38735706e-01, 5.61264294e-01],\n",
              "        [9.55491697e-01, 4.45083030e-02],\n",
              "        [5.04126134e-01, 4.95873866e-01],\n",
              "        [9.72535057e-01, 2.74649427e-02],\n",
              "        [1.42241785e-02, 9.85775821e-01],\n",
              "        [9.71774922e-01, 2.82250776e-02],\n",
              "        [3.07454675e-01, 6.92545325e-01],\n",
              "        [2.50357382e-01, 7.49642618e-01],\n",
              "        [9.97496542e-01, 2.50345847e-03],\n",
              "        [7.20654075e-01, 2.79345925e-01],\n",
              "        [7.59163525e-03, 9.92408365e-01],\n",
              "        [5.61634592e-01, 4.38365408e-01],\n",
              "        [8.58944898e-01, 1.41055102e-01],\n",
              "        [2.15231524e-01, 7.84768476e-01],\n",
              "        [9.38234764e-01, 6.17652355e-02],\n",
              "        [9.99713581e-01, 2.86419137e-04],\n",
              "        [8.12303870e-02, 9.18769613e-01],\n",
              "        [7.52349456e-02, 9.24765054e-01],\n",
              "        [9.59647683e-01, 4.03523165e-02],\n",
              "        [9.95157343e-01, 4.84265682e-03],\n",
              "        [8.01308697e-01, 1.98691303e-01],\n",
              "        [3.51972209e-02, 9.64802779e-01],\n",
              "        [9.84631452e-01, 1.53685479e-02],\n",
              "        [7.34764239e-01, 2.65235761e-01],\n",
              "        [1.51758896e-02, 9.84824110e-01],\n",
              "        [9.99763894e-01, 2.36105954e-04],\n",
              "        [5.25460579e-02, 9.47453942e-01],\n",
              "        [9.59411041e-01, 4.05889594e-02],\n",
              "        [2.38435748e-01, 7.61564252e-01],\n",
              "        [9.90098109e-01, 9.90189100e-03],\n",
              "        [1.78564504e-01, 8.21435496e-01],\n",
              "        [4.01425402e-02, 9.59857460e-01],\n",
              "        [9.20420555e-01, 7.95794455e-02],\n",
              "        [5.35792968e-01, 4.64207032e-01],\n",
              "        [5.09251492e-03, 9.94907485e-01],\n",
              "        [4.49401930e-01, 5.50598070e-01],\n",
              "        [1.89445414e-04, 9.99810555e-01],\n",
              "        [9.93557599e-01, 6.44240073e-03],\n",
              "        [4.16183640e-02, 9.58381636e-01],\n",
              "        [4.12444449e-01, 5.87555551e-01],\n",
              "        [9.96117736e-01, 3.88226374e-03],\n",
              "        [8.29930080e-01, 1.70069920e-01],\n",
              "        [9.07481769e-02, 9.09251823e-01],\n",
              "        [3.64352357e-01, 6.35647643e-01],\n",
              "        [6.72668279e-01, 3.27331721e-01],\n",
              "        [7.73375126e-01, 2.26624874e-01],\n",
              "        [2.76565325e-01, 7.23434675e-01],\n",
              "        [5.30003966e-02, 9.46999603e-01],\n",
              "        [3.46772123e-01, 6.53227877e-01],\n",
              "        [9.99003664e-01, 9.96335783e-04],\n",
              "        [7.24765716e-01, 2.75234284e-01],\n",
              "        [3.21113184e-01, 6.78886816e-01],\n",
              "        [9.94334618e-01, 5.66538228e-03],\n",
              "        [9.21812072e-01, 7.81879280e-02],\n",
              "        [5.95050557e-03, 9.94049494e-01],\n",
              "        [4.67475545e-01, 5.32524455e-01],\n",
              "        [7.17403170e-02, 9.28259683e-01],\n",
              "        [5.75548715e-01, 4.24451285e-01],\n",
              "        [2.07638247e-01, 7.92361753e-01],\n",
              "        [9.44687273e-01, 5.53127272e-02],\n",
              "        [6.24602315e-01, 3.75397685e-01],\n",
              "        [2.02251051e-02, 9.79774895e-01],\n",
              "        [1.51850338e-01, 8.48149662e-01],\n",
              "        [1.19753946e-02, 9.88024605e-01],\n",
              "        [2.67126103e-01, 7.32873897e-01],\n",
              "        [9.94515171e-01, 5.48482887e-03],\n",
              "        [3.62014482e-01, 6.37985518e-01],\n",
              "        [9.99882842e-01, 1.17157907e-04],\n",
              "        [2.95677229e-02, 9.70432277e-01],\n",
              "        [3.63955187e-01, 6.36044813e-01],\n",
              "        [9.67009287e-01, 3.29907132e-02],\n",
              "        [9.86839920e-01, 1.31600798e-02],\n",
              "        [8.42932262e-01, 1.57067738e-01],\n",
              "        [9.68102536e-01, 3.18974639e-02],\n",
              "        [4.08772285e-02, 9.59122772e-01],\n",
              "        [7.85415899e-01, 2.14584101e-01],\n",
              "        [9.83505597e-01, 1.64944034e-02],\n",
              "        [1.11635548e-01, 8.88364452e-01],\n",
              "        [6.58076161e-02, 9.34192384e-01],\n",
              "        [3.22525905e-01, 6.77474095e-01],\n",
              "        [4.36172373e-02, 9.56382763e-01],\n",
              "        [3.07594598e-01, 6.92405402e-01],\n",
              "        [4.86911958e-01, 5.13088042e-01],\n",
              "        [1.31537110e-02, 9.86846289e-01],\n",
              "        [3.66056333e-01, 6.33943667e-01],\n",
              "        [9.83291275e-01, 1.67087253e-02],\n",
              "        [7.11273108e-01, 2.88726892e-01],\n",
              "        [1.85830207e-02, 9.81416979e-01],\n",
              "        [8.15556628e-01, 1.84443372e-01],\n",
              "        [9.96405896e-01, 3.59410380e-03],\n",
              "        [2.02674166e-01, 7.97325834e-01],\n",
              "        [5.66227928e-01, 4.33772072e-01],\n",
              "        [8.85675150e-02, 9.11432485e-01],\n",
              "        [9.81161947e-01, 1.88380530e-02],\n",
              "        [2.20558615e-01, 7.79441385e-01],\n",
              "        [1.66200046e-01, 8.33799954e-01],\n",
              "        [5.46179980e-01, 4.53820020e-01],\n",
              "        [2.36688201e-01, 7.63311799e-01],\n",
              "        [3.37062685e-01, 6.62937315e-01],\n",
              "        [1.22825045e-01, 8.77174955e-01],\n",
              "        [6.44713261e-01, 3.55286739e-01],\n",
              "        [1.80183717e-01, 8.19816283e-01],\n",
              "        [8.20025915e-01, 1.79974085e-01],\n",
              "        [6.89450330e-01, 3.10549670e-01],\n",
              "        [9.73876980e-01, 2.61230205e-02],\n",
              "        [4.20979656e-02, 9.57902034e-01],\n",
              "        [9.93763094e-01, 6.23690579e-03],\n",
              "        [9.95569735e-01, 4.43026542e-03],\n",
              "        [8.71328562e-03, 9.91286714e-01],\n",
              "        [6.75382070e-01, 3.24617930e-01],\n",
              "        [9.11634020e-01, 8.83659795e-02],\n",
              "        [6.57082054e-01, 3.42917946e-01],\n",
              "        [7.38623297e-01, 2.61376703e-01],\n",
              "        [9.92653182e-01, 7.34681823e-03],\n",
              "        [7.02423683e-01, 2.97576317e-01],\n",
              "        [6.43873179e-01, 3.56126821e-01],\n",
              "        [9.18430425e-01, 8.15695751e-02],\n",
              "        [1.19168103e-01, 8.80831897e-01],\n",
              "        [9.88211830e-01, 1.17881701e-02],\n",
              "        [1.92341814e-01, 8.07658186e-01],\n",
              "        [7.11572204e-01, 2.88427796e-01],\n",
              "        [6.01159913e-01, 3.98840087e-01],\n",
              "        [9.88498137e-01, 1.15018633e-02],\n",
              "        [1.56482783e-01, 8.43517217e-01],\n",
              "        [2.31939775e-01, 7.68060225e-01],\n",
              "        [6.18692898e-01, 3.81307102e-01],\n",
              "        [7.20440406e-01, 2.79559594e-01],\n",
              "        [8.88898574e-01, 1.11101426e-01],\n",
              "        [7.70455990e-01, 2.29544010e-01],\n",
              "        [7.26401378e-01, 2.73598622e-01],\n",
              "        [1.67737387e-01, 8.32262613e-01],\n",
              "        [9.08473377e-01, 9.15266230e-02],\n",
              "        [6.74735595e-01, 3.25264405e-01],\n",
              "        [3.64479671e-01, 6.35520329e-01],\n",
              "        [9.09911375e-01, 9.00886250e-02],\n",
              "        [6.27171735e-02, 9.37282827e-01],\n",
              "        [9.17435800e-01, 8.25641999e-02],\n",
              "        [9.81838531e-01, 1.81614689e-02],\n",
              "        [8.85316692e-01, 1.14683308e-01],\n",
              "        [4.03679327e-01, 5.96320673e-01],\n",
              "        [9.96301928e-02, 9.00369807e-01],\n",
              "        [5.41811603e-01, 4.58188397e-01],\n",
              "        [2.24094167e-02, 9.77590583e-01],\n",
              "        [1.23716094e-01, 8.76283906e-01],\n",
              "        [9.89210422e-01, 1.07895775e-02],\n",
              "        [3.52341442e-01, 6.47658558e-01],\n",
              "        [1.63591491e-01, 8.36408509e-01],\n",
              "        [5.53659347e-01, 4.46340653e-01],\n",
              "        [9.51063308e-01, 4.89366919e-02],\n",
              "        [9.77453510e-01, 2.25464897e-02],\n",
              "        [9.76437039e-01, 2.35629609e-02],\n",
              "        [9.79011981e-01, 2.09880192e-02],\n",
              "        [1.10184576e-01, 8.89815424e-01],\n",
              "        [4.07380543e-01, 5.92619457e-01],\n",
              "        [9.97882327e-01, 2.11767259e-03],\n",
              "        [3.91761363e-03, 9.96082386e-01],\n",
              "        [4.32470150e-02, 9.56752985e-01],\n",
              "        [3.07487222e-01, 6.92512778e-01],\n",
              "        [1.82243714e-02, 9.81775629e-01],\n",
              "        [4.39245169e-04, 9.99560755e-01],\n",
              "        [8.53684406e-01, 1.46315594e-01],\n",
              "        [1.77411843e-02, 9.82258816e-01],\n",
              "        [3.19777038e-01, 6.80222962e-01],\n",
              "        [9.98147325e-01, 1.85267487e-03],\n",
              "        [2.56526419e-01, 7.43473581e-01],\n",
              "        [3.83189668e-02, 9.61681033e-01],\n",
              "        [4.29176525e-01, 5.70823475e-01],\n",
              "        [1.03457672e-03, 9.98965423e-01],\n",
              "        [3.87801506e-01, 6.12198494e-01],\n",
              "        [4.31265023e-01, 5.68734977e-01],\n",
              "        [5.37271957e-01, 4.62728043e-01],\n",
              "        [3.86849256e-01, 6.13150744e-01],\n",
              "        [1.04169951e-01, 8.95830049e-01],\n",
              "        [3.17200274e-01, 6.82799726e-01],\n",
              "        [3.06452387e-01, 6.93547613e-01],\n",
              "        [2.24637292e-03, 9.97753627e-01],\n",
              "        [1.12887194e-01, 8.87112806e-01],\n",
              "        [8.49638532e-04, 9.99150361e-01],\n",
              "        [9.44807502e-01, 5.51924975e-02],\n",
              "        [9.80517674e-01, 1.94823261e-02],\n",
              "        [3.53580529e-01, 6.46419471e-01],\n",
              "        [9.49992302e-01, 5.00076979e-02],\n",
              "        [5.10203957e-01, 4.89796043e-01],\n",
              "        [4.09560886e-01, 5.90439114e-01],\n",
              "        [6.97680272e-01, 3.02319728e-01],\n",
              "        [6.74480116e-02, 9.32551988e-01],\n",
              "        [9.96443238e-01, 3.55676182e-03],\n",
              "        [9.95174073e-01, 4.82592747e-03],\n",
              "        [8.62090327e-01, 1.37909673e-01],\n",
              "        [5.36794806e-01, 4.63205194e-01],\n",
              "        [3.07755349e-01, 6.92244651e-01],\n",
              "        [1.17504475e-01, 8.82495525e-01],\n",
              "        [6.60112274e-01, 3.39887726e-01],\n",
              "        [1.99353228e-01, 8.00646772e-01],\n",
              "        [1.11944263e-01, 8.88055737e-01],\n",
              "        [2.42536501e-03, 9.97574635e-01],\n",
              "        [9.86371158e-01, 1.36288421e-02],\n",
              "        [9.82273020e-01, 1.77269799e-02],\n",
              "        [4.26724744e-01, 5.73275256e-01],\n",
              "        [9.64746483e-01, 3.52535174e-02],\n",
              "        [9.85068104e-01, 1.49318962e-02],\n",
              "        [5.44187217e-02, 9.45581278e-01],\n",
              "        [7.24396715e-01, 2.75603285e-01],\n",
              "        [6.32661268e-01, 3.67338732e-01],\n",
              "        [5.21887168e-03, 9.94781128e-01],\n",
              "        [2.36937994e-01, 7.63062006e-01],\n",
              "        [1.77856585e-01, 8.22143415e-01],\n",
              "        [6.68988846e-01, 3.31011154e-01],\n",
              "        [3.85174182e-01, 6.14825818e-01],\n",
              "        [9.10279702e-01, 8.97202983e-02],\n",
              "        [1.14958463e-01, 8.85041537e-01],\n",
              "        [1.41812269e-01, 8.58187731e-01],\n",
              "        [1.42701657e-01, 8.57298343e-01],\n",
              "        [7.05666525e-01, 2.94333475e-01],\n",
              "        [2.68665000e-01, 7.31335000e-01],\n",
              "        [9.92155663e-01, 7.84433665e-03],\n",
              "        [8.33257615e-01, 1.66742385e-01],\n",
              "        [9.68952573e-01, 3.10474274e-02],\n",
              "        [6.43392168e-03, 9.93566078e-01],\n",
              "        [2.07347358e-02, 9.79265264e-01],\n",
              "        [5.41949505e-01, 4.58050495e-01],\n",
              "        [1.42997302e-01, 8.57002698e-01],\n",
              "        [3.29846733e-01, 6.70153267e-01],\n",
              "        [4.14360233e-01, 5.85639767e-01],\n",
              "        [1.10169120e-01, 8.89830880e-01],\n",
              "        [9.72745781e-01, 2.72542194e-02],\n",
              "        [9.95285661e-01, 4.71433916e-03],\n",
              "        [8.32017222e-03, 9.91679828e-01],\n",
              "        [9.15271038e-01, 8.47289616e-02],\n",
              "        [3.15752728e-02, 9.68424727e-01],\n",
              "        [1.58580143e-02, 9.84141986e-01],\n",
              "        [9.77739198e-04, 9.99022261e-01],\n",
              "        [1.09342491e-01, 8.90657509e-01],\n",
              "        [6.89091357e-03, 9.93109086e-01],\n",
              "        [3.13080572e-01, 6.86919428e-01],\n",
              "        [1.71570476e-01, 8.28429524e-01],\n",
              "        [2.59293511e-02, 9.74070649e-01],\n",
              "        [3.02618272e-01, 6.97381728e-01],\n",
              "        [9.88904186e-01, 1.10958142e-02],\n",
              "        [3.19028187e-01, 6.80971813e-01],\n",
              "        [9.93862495e-01, 6.13750462e-03],\n",
              "        [1.38177742e-01, 8.61822258e-01],\n",
              "        [9.49987610e-01, 5.00123904e-02],\n",
              "        [1.90807908e-03, 9.98091921e-01],\n",
              "        [7.17832215e-02, 9.28216778e-01],\n",
              "        [9.46731039e-01, 5.32689607e-02],\n",
              "        [8.35594831e-01, 1.64405169e-01],\n",
              "        [2.98338669e-01, 7.01661331e-01],\n",
              "        [7.17698296e-01, 2.82301704e-01],\n",
              "        [2.87549211e-01, 7.12450789e-01],\n",
              "        [1.11705147e-01, 8.88294853e-01],\n",
              "        [5.49406906e-01, 4.50593094e-01],\n",
              "        [4.11601577e-01, 5.88398423e-01],\n",
              "        [9.79735037e-01, 2.02649633e-02],\n",
              "        [8.60562354e-02, 9.13943765e-01],\n",
              "        [1.16456852e-01, 8.83543148e-01],\n",
              "        [7.22797776e-01, 2.77202224e-01],\n",
              "        [8.61075991e-01, 1.38924009e-01],\n",
              "        [3.01599078e-01, 6.98400922e-01],\n",
              "        [7.60140349e-02, 9.23985965e-01],\n",
              "        [9.89086738e-01, 1.09132622e-02],\n",
              "        [7.34609622e-02, 9.26539038e-01],\n",
              "        [4.72347014e-01, 5.27652986e-01],\n",
              "        [2.43766109e-01, 7.56233891e-01],\n",
              "        [7.03256001e-01, 2.96743999e-01],\n",
              "        [1.39672297e-02, 9.86032770e-01],\n",
              "        [9.38669211e-01, 6.13307890e-02],\n",
              "        [1.71219709e-01, 8.28780291e-01],\n",
              "        [9.85433884e-01, 1.45661160e-02],\n",
              "        [6.77592428e-01, 3.22407572e-01],\n",
              "        [9.28939624e-01, 7.10603759e-02],\n",
              "        [9.16612274e-01, 8.33877256e-02],\n",
              "        [9.66958301e-01, 3.30416995e-02],\n",
              "        [2.94378245e-03, 9.97056218e-01],\n",
              "        [2.41282170e-03, 9.97587178e-01],\n",
              "        [9.08253790e-01, 9.17462103e-02],\n",
              "        [6.59292375e-01, 3.40707625e-01],\n",
              "        [9.99903424e-01, 9.65764297e-05],\n",
              "        [9.17175437e-01, 8.28245628e-02],\n",
              "        [9.95863858e-01, 4.13614188e-03],\n",
              "        [1.01324320e-02, 9.89867568e-01],\n",
              "        [1.91527355e-01, 8.08472645e-01],\n",
              "        [8.24074801e-02, 9.17592520e-01],\n",
              "        [3.20270146e-01, 6.79729854e-01],\n",
              "        [1.90516927e-01, 8.09483073e-01],\n",
              "        [9.98747422e-01, 1.25257761e-03],\n",
              "        [1.85990297e-01, 8.14009703e-01],\n",
              "        [2.88781462e-02, 9.71121854e-01],\n",
              "        [5.09641606e-01, 4.90358394e-01],\n",
              "        [5.32410833e-01, 4.67589167e-01],\n",
              "        [1.03436218e-01, 8.96563782e-01],\n",
              "        [1.46445292e-01, 8.53554708e-01],\n",
              "        [9.60809884e-02, 9.03919012e-01],\n",
              "        [3.26876860e-01, 6.73123140e-01],\n",
              "        [9.85513750e-01, 1.44862498e-02],\n",
              "        [5.56311537e-03, 9.94436885e-01],\n",
              "        [1.21921665e-01, 8.78078335e-01],\n",
              "        [2.59746911e-03, 9.97402531e-01],\n",
              "        [9.79744555e-01, 2.02554451e-02],\n",
              "        [6.72875222e-03, 9.93271248e-01],\n",
              "        [3.21142785e-02, 9.67885722e-01],\n",
              "        [6.35887196e-01, 3.64112804e-01],\n",
              "        [4.17642929e-01, 5.82357071e-01],\n",
              "        [1.09358547e-03, 9.98906415e-01],\n",
              "        [2.77322417e-02, 9.72267758e-01],\n",
              "        [5.36603302e-03, 9.94633967e-01],\n",
              "        [9.83127457e-01, 1.68725428e-02],\n",
              "        [9.58153711e-01, 4.18462891e-02],\n",
              "        [3.42055626e-02, 9.65794437e-01],\n",
              "        [3.59972756e-01, 6.40027244e-01],\n",
              "        [9.91468530e-01, 8.53147001e-03],\n",
              "        [9.31299079e-01, 6.87009213e-02],\n",
              "        [9.81666131e-01, 1.83338686e-02],\n",
              "        [1.74460571e-01, 8.25539429e-01],\n",
              "        [3.80062384e-02, 9.61993762e-01],\n",
              "        [9.96180405e-01, 3.81959520e-03],\n",
              "        [9.99918844e-01, 8.11560718e-05],\n",
              "        [9.76962515e-01, 2.30374848e-02],\n",
              "        [9.77478023e-03, 9.90225220e-01],\n",
              "        [4.28099666e-02, 9.57190033e-01],\n",
              "        [9.83903388e-01, 1.60966123e-02],\n",
              "        [6.81012901e-01, 3.18987099e-01],\n",
              "        [9.99308834e-01, 6.91165671e-04],\n",
              "        [6.74627624e-01, 3.25372376e-01],\n",
              "        [3.87245062e-01, 6.12754938e-01],\n",
              "        [8.37579948e-01, 1.62420052e-01],\n",
              "        [1.72040853e-01, 8.27959147e-01],\n",
              "        [9.99316362e-01, 6.83638467e-04],\n",
              "        [2.41351366e-01, 7.58648634e-01],\n",
              "        [5.39166619e-02, 9.46083338e-01],\n",
              "        [5.60356679e-01, 4.39643321e-01],\n",
              "        [2.81570337e-02, 9.71842966e-01],\n",
              "        [2.43887832e-01, 7.56112168e-01],\n",
              "        [1.50873837e-01, 8.49126163e-01],\n",
              "        [8.25793714e-01, 1.74206286e-01],\n",
              "        [3.43360109e-01, 6.56639891e-01],\n",
              "        [2.54216107e-01, 7.45783893e-01],\n",
              "        [9.88750007e-01, 1.12499931e-02],\n",
              "        [9.06877534e-01, 9.31224664e-02],\n",
              "        [6.25386470e-01, 3.74613530e-01],\n",
              "        [1.08188993e-01, 8.91811007e-01],\n",
              "        [5.12555826e-02, 9.48744417e-01],\n",
              "        [7.76125337e-01, 2.23874663e-01],\n",
              "        [2.84137092e-01, 7.15862908e-01],\n",
              "        [9.69157402e-01, 3.08425976e-02]]), (500, 2))"
            ]
          },
          "execution_count": 61,
          "metadata": {
            "tags": []
          },
          "output_type": "execute_result"
        }
      ],
      "source": [
        "lr_probs, lr_probs.shape"
      ]
    },
    {
      "cell_type": "code",
      "execution_count": null,
      "metadata": {
        "colab": {
          "base_uri": "https://localhost:8080/",
          "height": 1000
        },
        "id": "2dfHcrjZHeT0",
        "outputId": "66bb35ba-b243-4eed-a5f8-4ee2f0c85274"
      },
      "outputs": [
        {
          "name": "stdout",
          "output_type": "stream",
          "text": [
            "[9.95972685e-01 9.97994843e-01 5.29883066e-03 1.52374194e-01\n",
            " 9.98333350e-01 5.00061448e-01 1.97631392e-02 2.34633843e-02\n",
            " 9.82000697e-01 7.06465180e-01 4.16201961e-03 7.46446600e-01\n",
            " 7.66567488e-03 9.61958719e-01 9.35214568e-01 8.07653554e-01\n",
            " 1.44803886e-01 9.56532321e-01 1.56957507e-01 9.44908759e-01\n",
            " 8.67007620e-01 4.10282064e-01 2.04815673e-02 6.67093752e-01\n",
            " 4.26334713e-03 9.56694469e-01 6.92577362e-01 9.94406759e-01\n",
            " 2.49159988e-02 5.50542684e-01 7.92214513e-01 8.15242298e-01\n",
            " 8.18291856e-02 8.23317999e-01 1.53516867e-02 7.98798532e-02\n",
            " 9.87551937e-01 9.36923464e-01 9.86339822e-01 3.19318661e-01\n",
            " 9.82576369e-03 3.82722802e-02 9.83635286e-02 9.83780221e-01\n",
            " 6.53737641e-03 5.29530623e-01 5.01616608e-01 9.97760930e-01\n",
            " 8.40960809e-03 1.42082825e-01 2.21934800e-02 6.47786780e-01\n",
            " 9.79115074e-01 2.32942383e-01 5.09205311e-02 9.03776284e-01\n",
            " 6.20807462e-02 6.78015442e-02 5.45950280e-02 6.18886716e-01\n",
            " 8.53405992e-01 4.75728835e-02 6.03026960e-01 2.87845483e-02\n",
            " 3.53877982e-02 1.22859592e-01 3.79826014e-01 3.99172706e-03\n",
            " 6.25785865e-01 8.36133381e-01 1.02004460e-01 2.78923900e-02\n",
            " 9.49281995e-01 8.90786995e-01 9.90144555e-01 9.99649263e-01\n",
            " 8.40192803e-02 6.86963295e-01 4.27705204e-02 1.59756376e-01\n",
            " 1.47315054e-03 3.50544785e-02 7.92727204e-01 2.59571555e-03\n",
            " 9.38525649e-01 2.77126717e-01 9.75857382e-01 5.28233726e-01\n",
            " 9.39260264e-01 9.81247338e-01 8.65090756e-01 9.70978524e-01\n",
            " 8.01864232e-01 9.14621360e-01 6.78098482e-01 6.51868908e-01\n",
            " 3.95878680e-02 5.70540796e-01 2.51809563e-01 9.27295311e-01\n",
            " 9.58874291e-01 1.07859507e-01 8.62206288e-01 1.62219637e-02\n",
            " 3.17835539e-01 5.00561752e-01 8.22322697e-01 7.29965896e-02\n",
            " 8.76612424e-01 4.08559920e-01 4.00125978e-01 8.08058923e-01\n",
            " 9.42181924e-01 4.55753661e-01 4.57195564e-03 8.79656222e-01\n",
            " 9.88361184e-01 1.44583679e-01 5.84497209e-02 7.62912313e-01\n",
            " 8.49368226e-02 8.55737954e-02 2.53090412e-04 2.30525548e-01\n",
            " 6.02319713e-01 9.43152499e-01 9.20285527e-01 5.69625194e-01\n",
            " 5.60434187e-01 8.57661156e-01 2.09170025e-01 7.14497070e-01\n",
            " 1.85385351e-03 1.72053437e-01 4.65430795e-02 7.55181033e-01\n",
            " 3.06873780e-01 3.61776050e-03 7.46303003e-01 4.34572049e-01\n",
            " 8.16273639e-01 9.90905708e-01 9.53997832e-01 2.07794399e-01\n",
            " 7.26040531e-03 1.57361816e-02 4.04756204e-02 9.32533809e-01\n",
            " 9.15661160e-01 3.88359914e-03 8.78091144e-01 3.19887772e-01\n",
            " 2.70558068e-02 1.66378488e-01 9.97663639e-01 5.61264294e-01\n",
            " 4.45083030e-02 4.95873866e-01 2.74649427e-02 9.85775821e-01\n",
            " 2.82250776e-02 6.92545325e-01 7.49642618e-01 2.50345847e-03\n",
            " 2.79345925e-01 9.92408365e-01 4.38365408e-01 1.41055102e-01\n",
            " 7.84768476e-01 6.17652355e-02 2.86419137e-04 9.18769613e-01\n",
            " 9.24765054e-01 4.03523165e-02 4.84265682e-03 1.98691303e-01\n",
            " 9.64802779e-01 1.53685479e-02 2.65235761e-01 9.84824110e-01\n",
            " 2.36105954e-04 9.47453942e-01 4.05889594e-02 7.61564252e-01\n",
            " 9.90189100e-03 8.21435496e-01 9.59857460e-01 7.95794455e-02\n",
            " 4.64207032e-01 9.94907485e-01 5.50598070e-01 9.99810555e-01\n",
            " 6.44240073e-03 9.58381636e-01 5.87555551e-01 3.88226374e-03\n",
            " 1.70069920e-01 9.09251823e-01 6.35647643e-01 3.27331721e-01\n",
            " 2.26624874e-01 7.23434675e-01 9.46999603e-01 6.53227877e-01\n",
            " 9.96335783e-04 2.75234284e-01 6.78886816e-01 5.66538228e-03\n",
            " 7.81879280e-02 9.94049494e-01 5.32524455e-01 9.28259683e-01\n",
            " 4.24451285e-01 7.92361753e-01 5.53127272e-02 3.75397685e-01\n",
            " 9.79774895e-01 8.48149662e-01 9.88024605e-01 7.32873897e-01\n",
            " 5.48482887e-03 6.37985518e-01 1.17157907e-04 9.70432277e-01\n",
            " 6.36044813e-01 3.29907132e-02 1.31600798e-02 1.57067738e-01\n",
            " 3.18974639e-02 9.59122772e-01 2.14584101e-01 1.64944034e-02\n",
            " 8.88364452e-01 9.34192384e-01 6.77474095e-01 9.56382763e-01\n",
            " 6.92405402e-01 5.13088042e-01 9.86846289e-01 6.33943667e-01\n",
            " 1.67087253e-02 2.88726892e-01 9.81416979e-01 1.84443372e-01\n",
            " 3.59410380e-03 7.97325834e-01 4.33772072e-01 9.11432485e-01\n",
            " 1.88380530e-02 7.79441385e-01 8.33799954e-01 4.53820020e-01\n",
            " 7.63311799e-01 6.62937315e-01 8.77174955e-01 3.55286739e-01\n",
            " 8.19816283e-01 1.79974085e-01 3.10549670e-01 2.61230205e-02\n",
            " 9.57902034e-01 6.23690579e-03 4.43026542e-03 9.91286714e-01\n",
            " 3.24617930e-01 8.83659795e-02 3.42917946e-01 2.61376703e-01\n",
            " 7.34681823e-03 2.97576317e-01 3.56126821e-01 8.15695751e-02\n",
            " 8.80831897e-01 1.17881701e-02 8.07658186e-01 2.88427796e-01\n",
            " 3.98840087e-01 1.15018633e-02 8.43517217e-01 7.68060225e-01\n",
            " 3.81307102e-01 2.79559594e-01 1.11101426e-01 2.29544010e-01\n",
            " 2.73598622e-01 8.32262613e-01 9.15266230e-02 3.25264405e-01\n",
            " 6.35520329e-01 9.00886250e-02 9.37282827e-01 8.25641999e-02\n",
            " 1.81614689e-02 1.14683308e-01 5.96320673e-01 9.00369807e-01\n",
            " 4.58188397e-01 9.77590583e-01 8.76283906e-01 1.07895775e-02\n",
            " 6.47658558e-01 8.36408509e-01 4.46340653e-01 4.89366919e-02\n",
            " 2.25464897e-02 2.35629609e-02 2.09880192e-02 8.89815424e-01\n",
            " 5.92619457e-01 2.11767259e-03 9.96082386e-01 9.56752985e-01\n",
            " 6.92512778e-01 9.81775629e-01 9.99560755e-01 1.46315594e-01\n",
            " 9.82258816e-01 6.80222962e-01 1.85267487e-03 7.43473581e-01\n",
            " 9.61681033e-01 5.70823475e-01 9.98965423e-01 6.12198494e-01\n",
            " 5.68734977e-01 4.62728043e-01 6.13150744e-01 8.95830049e-01\n",
            " 6.82799726e-01 6.93547613e-01 9.97753627e-01 8.87112806e-01\n",
            " 9.99150361e-01 5.51924975e-02 1.94823261e-02 6.46419471e-01\n",
            " 5.00076979e-02 4.89796043e-01 5.90439114e-01 3.02319728e-01\n",
            " 9.32551988e-01 3.55676182e-03 4.82592747e-03 1.37909673e-01\n",
            " 4.63205194e-01 6.92244651e-01 8.82495525e-01 3.39887726e-01\n",
            " 8.00646772e-01 8.88055737e-01 9.97574635e-01 1.36288421e-02\n",
            " 1.77269799e-02 5.73275256e-01 3.52535174e-02 1.49318962e-02\n",
            " 9.45581278e-01 2.75603285e-01 3.67338732e-01 9.94781128e-01\n",
            " 7.63062006e-01 8.22143415e-01 3.31011154e-01 6.14825818e-01\n",
            " 8.97202983e-02 8.85041537e-01 8.58187731e-01 8.57298343e-01\n",
            " 2.94333475e-01 7.31335000e-01 7.84433665e-03 1.66742385e-01\n",
            " 3.10474274e-02 9.93566078e-01 9.79265264e-01 4.58050495e-01\n",
            " 8.57002698e-01 6.70153267e-01 5.85639767e-01 8.89830880e-01\n",
            " 2.72542194e-02 4.71433916e-03 9.91679828e-01 8.47289616e-02\n",
            " 9.68424727e-01 9.84141986e-01 9.99022261e-01 8.90657509e-01\n",
            " 9.93109086e-01 6.86919428e-01 8.28429524e-01 9.74070649e-01\n",
            " 6.97381728e-01 1.10958142e-02 6.80971813e-01 6.13750462e-03\n",
            " 8.61822258e-01 5.00123904e-02 9.98091921e-01 9.28216778e-01\n",
            " 5.32689607e-02 1.64405169e-01 7.01661331e-01 2.82301704e-01\n",
            " 7.12450789e-01 8.88294853e-01 4.50593094e-01 5.88398423e-01\n",
            " 2.02649633e-02 9.13943765e-01 8.83543148e-01 2.77202224e-01\n",
            " 1.38924009e-01 6.98400922e-01 9.23985965e-01 1.09132622e-02\n",
            " 9.26539038e-01 5.27652986e-01 7.56233891e-01 2.96743999e-01\n",
            " 9.86032770e-01 6.13307890e-02 8.28780291e-01 1.45661160e-02\n",
            " 3.22407572e-01 7.10603759e-02 8.33877256e-02 3.30416995e-02\n",
            " 9.97056218e-01 9.97587178e-01 9.17462103e-02 3.40707625e-01\n",
            " 9.65764297e-05 8.28245628e-02 4.13614188e-03 9.89867568e-01\n",
            " 8.08472645e-01 9.17592520e-01 6.79729854e-01 8.09483073e-01\n",
            " 1.25257761e-03 8.14009703e-01 9.71121854e-01 4.90358394e-01\n",
            " 4.67589167e-01 8.96563782e-01 8.53554708e-01 9.03919012e-01\n",
            " 6.73123140e-01 1.44862498e-02 9.94436885e-01 8.78078335e-01\n",
            " 9.97402531e-01 2.02554451e-02 9.93271248e-01 9.67885722e-01\n",
            " 3.64112804e-01 5.82357071e-01 9.98906415e-01 9.72267758e-01\n",
            " 9.94633967e-01 1.68725428e-02 4.18462891e-02 9.65794437e-01\n",
            " 6.40027244e-01 8.53147001e-03 6.87009213e-02 1.83338686e-02\n",
            " 8.25539429e-01 9.61993762e-01 3.81959520e-03 8.11560718e-05\n",
            " 2.30374848e-02 9.90225220e-01 9.57190033e-01 1.60966123e-02\n",
            " 3.18987099e-01 6.91165671e-04 3.25372376e-01 6.12754938e-01\n",
            " 1.62420052e-01 8.27959147e-01 6.83638467e-04 7.58648634e-01\n",
            " 9.46083338e-01 4.39643321e-01 9.71842966e-01 7.56112168e-01\n",
            " 8.49126163e-01 1.74206286e-01 6.56639891e-01 7.45783893e-01\n",
            " 1.12499931e-02 9.31224664e-02 3.74613530e-01 8.91811007e-01\n",
            " 9.48744417e-01 2.23874663e-01 7.15862908e-01 3.08425976e-02]\n",
            "No Skill: ROC AUC=0.500\n",
            "Logistic: ROC AUC=0.903\n"
          ]
        },
        {
          "data": {
            "image/png": "[encoded data removed]",
            "text/plain": [
              "<Figure size 432x288 with 1 Axes>"
            ]
          },
          "metadata": {
            "tags": []
          },
          "output_type": "display_data"
        }
      ],
      "source": [
        "# keep probabilities for the positive outcome only\n",
        "lr_probs = lr_probs[:, 1]\n",
        "print(lr_probs)\n",
        "# calculate scores\n",
        "ns_auc = roc_auc_score(testy, ns_probs)\n",
        "lr_auc = roc_auc_score(testy, lr_probs)\n",
        "# summarize scores\n",
        "print('No Skill: ROC AUC=%.3f' % (ns_auc))\n",
        "print('Logistic: ROC AUC=%.3f' % (lr_auc))\n",
        "# calculate roc curves\n",
        "ns_fpr, ns_tpr, _ = roc_curve(testy, ns_probs)\n",
        "lr_fpr, lr_tpr, _ = roc_curve(testy, lr_probs)\n",
        "# plot the roc curve for the model\n",
        "pyplot.plot(ns_fpr, ns_tpr, linestyle='--', label='No Skill')\n",
        "pyplot.plot(lr_fpr, lr_tpr, marker='.', label='Logistic')\n",
        "# axis labels\n",
        "pyplot.xlabel('False Positive Rate')\n",
        "pyplot.ylabel('True Positive Rate')\n",
        "# show the legend\n",
        "pyplot.legend()\n",
        "# show the plot\n",
        "pyplot.show()"
      ]
    },
    {
      "cell_type": "code",
      "execution_count": null,
      "metadata": {
        "colab": {
          "base_uri": "https://localhost:8080/",
          "height": 251
        },
        "id": "kWhGH96Vf9SD",
        "outputId": "ccf791d7-18bc-4846-9167-a18aa693f4ca"
      },
      "outputs": [
        {
          "name": "stdout",
          "output_type": "stream",
          "text": [
            "[1 1 0 0 1 1 0 0 1 1 0 0 0 1 1 0 0 1 0 1 1 0 0 0 0 1 1 1 0 0 1 1 0 1 0 0 1\n",
            " 1 1 0 0 0 0 1 0 1 0 1 0 0 1 1 0 1 0 1 0 0 0 1 1 1 0 0 0 0 1 0 1 1 0 0 1 1\n",
            " 1 1 0 0 0 0 0 0 1 0 1 1 1 0 1 1 1 1 1 1 1 1 0 1 0 1 1 0 1 0 0 1 0 1 0 0 0\n",
            " 1 1 0 0 1 1 0 0 0 0 1 0 1 1 1 1 0 0 1 1 1 0 0 0 1 0 0 1 0 1 1 1 0 0 0 0 1\n",
            " 1 0 1 0 0 0 1 1 0 1 0 1 0 1 1 0 0 1 0 0 1 0 0 1 1 0 0 0 1 0 0 1 0 1 0 1 0\n",
            " 1 1 0 1 1 1 1 0 1 1 0 0 1 0 0 0 1 0 1 0 1 1 0 0 1 0 1 0 1 0 1 1 1 1 1 0 1\n",
            " 0 1 1 0 0 0 0 1 1 0 1 1 1 1 1 1 1 1 0 0 1 1 0 1 1 1 0 1 1 1 1 0 0 0 1 0 1\n",
            " 0 1 0 0 1 0 0 1 0 0 0 0 0 1 0 1 1 0 0 1 0 1 1 0 1 0 1 0 0 1 0 1 0 0 1 1 0\n",
            " 0 1 1 0 1 1 1 0 0 0 0 1 1 0 1 1 0 1 1 0 1 1 0 1 0 0 1 1 1 0 1 1 0 1 1 0 1\n",
            " 0 0 0 0 1 0 1 1 0 0 0 0 1 1 1 1 0 1 0 0 1 0 0 1 1 0 1 1 1 1 0 0 1 1 1 0 0\n",
            " 0 0 0 1 1 0 1 1 1 1 0 0 0 0 1 1 1 1 1 0 1 1 1 0 1 1 1 0 1 1 1 0 1 0 1 1 0\n",
            " 1 0 1 1 1 0 1 0 0 1 0 1 1 1 0 1 0 0 0 0 0 1 1 0 0 0 1 0 0 1 1 0 1 0 1 1 1\n",
            " 0 0 1 1 1 0 1 1 1 0 1 1 0 1 1 1 1 1 0 1 1 0 0 0 1 1 0 0 0 1 1 0 0 0 0 1 0\n",
            " 0 0 0 0 1 1 1 1 0 0 1 0 1 1 1 1 0 0 0]\n"
          ]
        }
      ],
      "source": [
        "print(testy)"
      ]
    },
    {
      "cell_type": "markdown",
      "metadata": {
        "id": "wDqKAPADkduG"
      },
      "source": [
        "#### CapsNet"
      ]
    },
    {
      "cell_type": "code",
      "execution_count": null,
      "metadata": {
        "colab": {
          "base_uri": "https://localhost:8080/",
          "height": 726
        },
        "id": "vLfOHOMqkduG",
        "outputId": "3e0e46c5-faba-4807-f113-cc91e3d757a1"
      },
      "outputs": [
        {
          "name": "stdout",
          "output_type": "stream",
          "text": [
            "WARNING:tensorflow:From /usr/local/lib/python3.6/dist-packages/keras/backend/tensorflow_backend.py:1834: The name tf.nn.fused_batch_norm is deprecated. Please use tf.compat.v1.nn.fused_batch_norm instead.\n",
            "\n",
            "WARNING:tensorflow:From /usr/local/lib/python3.6/dist-packages/keras/backend/tensorflow_backend.py:133: The name tf.placeholder_with_default is deprecated. Please use tf.compat.v1.placeholder_with_default instead.\n",
            "\n",
            "WARNING:tensorflow:Variable += will be deprecated. Use variable.assign_add if you want assignment to the variable value or 'x = x + y' if you want a new python Tensor object.\n",
            "(?, 6040)\n",
            "Tensor(\"decoded_3/Reshape:0\", shape=(?, 40, 151, 1), dtype=float32)\n",
            "__________________________________________________________________________________________________\n",
            "Layer (type)                    Output Shape         Param #     Connected to                     \n",
            "==================================================================================================\n",
            "input_7 (InputLayer)            (None, 40, 151, 1)   0                                            \n",
            "__________________________________________________________________________________________________\n",
            "conv1 (Conv2D)                  (None, 16, 36, 64)   5248        input_7[0][0]                    \n",
            "__________________________________________________________________________________________________\n",
            "batch_normalization_1 (BatchNor (None, 16, 36, 64)   256         conv1[0][0]                      \n",
            "__________________________________________________________________________________________________\n",
            "conv2d_4 (Conv2D)               (None, 4, 14, 256)   1327360     batch_normalization_1[0][0]      \n",
            "__________________________________________________________________________________________________\n",
            "reshape_4 (Reshape)             (None, 1792, 8)      0           conv2d_4[0][0]                   \n",
            "__________________________________________________________________________________________________\n",
            "lambda_7 (Lambda)               (None, 1792, 8)      0           reshape_4[0][0]                  \n",
            "__________________________________________________________________________________________________\n",
            "digitcaps (DigitCaps)           (None, 30, 16)       6935040     lambda_7[0][0]                   \n",
            "__________________________________________________________________________________________________\n",
            "input_8 (InputLayer)            (None, 30)           0                                            \n",
            "__________________________________________________________________________________________________\n",
            "lambda_8 (Lambda)               (None, 16)           0           digitcaps[0][0]                  \n",
            "                                                                 input_8[0][0]                    \n",
            "__________________________________________________________________________________________________\n",
            "dense_7 (Dense)                 (None, 512)          8704        lambda_8[0][0]                   \n",
            "__________________________________________________________________________________________________\n",
            "dense_8 (Dense)                 (None, 6040)         3098520     dense_7[0][0]                    \n",
            "__________________________________________________________________________________________________\n",
            "v_j_abs (Length)                (None, 30)           0           digitcaps[0][0]                  \n",
            "__________________________________________________________________________________________________\n",
            "decoded (Reshape)               (None, 40, 151, 1)   0           dense_8[0][0]                    \n",
            "==================================================================================================\n",
            "Total params: 11,375,128\n",
            "Trainable params: 11,321,240\n",
            "Non-trainable params: 53,888\n",
            "__________________________________________________________________________________________________\n"
          ]
        }
      ],
      "source": [
        "input_shape=[num_rows, num_columns, num_channels]\n",
        "num_routing=3\n",
        "\n",
        "x = layers.Input(shape=input_shape)\n",
        "# Conv1\n",
        "conv1 = layers.Conv2D(filters=64, kernel_size=9, strides=(2,4), padding='valid', activation='relu', name='conv1')(x)\n",
        "batch_norm1 = layers.BatchNormalization()(conv1)\n",
        "# primary caps\n",
        "primarycaps = PrimaryCap(batch_norm1, dim_vector=8, n_channels=32, kernel_size=9, strides=2, padding='valid')\n",
        "# digit caps\n",
        "digitcaps = DigitCaps(num_capsule=NCLASSES, dim_vector=16, num_routing=num_routing,name='digitcaps')(primarycaps)\n",
        "# predicted label\n",
        "#     v_j_abs = keras.layers.Lambda(Length)(digitcaps)\n",
        "v_j_abs = Length(name='v_j_abs')(digitcaps)\n",
        "## Reconstruction for regulariation\n",
        "y = layers.Input(shape=(NCLASSES,))\n",
        "\n",
        "def Mask(inputs): \n",
        "    return K.batch_dot(inputs[0], inputs[1], [1, 1])\n",
        "\n",
        "masked = layers.Lambda(Mask)([digitcaps, y])\n",
        "# masked = Mask()([digitcaps, y])\n",
        "l = layers.Dense(512, activation='relu')(masked)\n",
        "#l = layers.Dense(1024, activation='relu')(l)\n",
        "l = layers.Dense(6040, activation='sigmoid')(l)\n",
        "print(l.shape)\n",
        "decoded = layers.Reshape(target_shape=[40, 151, 1], name='decoded')(l)\n",
        "print(decoded)\n",
        "model = keras.models.Model([x, y], [v_j_abs, decoded])\n",
        "model.summary()"
      ]
    },
    {
      "cell_type": "code",
      "execution_count": null,
      "metadata": {
        "id": "gEPWaoYgnMme"
      },
      "outputs": [],
      "source": [
        "dir =\"/content/drive/My Drive/Colab Notebooks/mydata/\"\n",
        "def train(model, data, epocs):\n",
        "    (x_train, y_train), (x_test, y_test) = data\n",
        "    model.compile(optimizer=keras.optimizers.Adam(lr=0.001, decay=0.0001),\n",
        "                  loss=[margin_loss, 'mse'],\n",
        "                  loss_weights=[1., 0],\n",
        "                  metrics={'v_j_abs': 'accuracy'})    \n",
        "    model.fit([x_train, y_train], [y_train, x_train], batch_size=32, epochs=20,\n",
        "              validation_data=[[x_test, y_test], [y_test, x_test]])"
      ]
    },
    {
      "cell_type": "code",
      "execution_count": null,
      "metadata": {
        "colab": {
          "base_uri": "https://localhost:8080/",
          "height": 726
        },
        "id": "NbEnkbZxnrsv",
        "outputId": "05d7c183-570d-431f-e991-00455b5d26a4"
      },
      "outputs": [
        {
          "name": "stdout",
          "output_type": "stream",
          "text": [
            "Train on 1071 samples, validate on 6480 samples\n",
            "Epoch 1/20\n",
            "1071/1071 [==============================] - 52s 48ms/step - loss: 0.4441 - v_j_abs_loss: 0.4441 - decoded_loss: 0.2738 - v_j_abs_acc: 0.4883 - val_loss: 0.5119 - val_v_j_abs_loss: 0.5119 - val_decoded_loss: 0.2734 - val_v_j_abs_acc: 0.3398\n",
            "Epoch 2/20\n",
            "1071/1071 [==============================] - 51s 48ms/step - loss: 0.1071 - v_j_abs_loss: 0.1071 - decoded_loss: 0.2738 - v_j_abs_acc: 0.9795 - val_loss: 0.2945 - val_v_j_abs_loss: 0.2945 - val_decoded_loss: 0.2734 - val_v_j_abs_acc: 0.7144\n",
            "Epoch 3/20\n",
            "1071/1071 [==============================] - 51s 47ms/step - loss: 0.0387 - v_j_abs_loss: 0.0387 - decoded_loss: 0.2738 - v_j_abs_acc: 1.0000 - val_loss: 0.2615 - val_v_j_abs_loss: 0.2615 - val_decoded_loss: 0.2734 - val_v_j_abs_acc: 0.7514\n",
            "Epoch 4/20\n",
            "1071/1071 [==============================] - 51s 47ms/step - loss: 0.0176 - v_j_abs_loss: 0.0176 - decoded_loss: 0.2738 - v_j_abs_acc: 1.0000 - val_loss: 0.2473 - val_v_j_abs_loss: 0.2473 - val_decoded_loss: 0.2734 - val_v_j_abs_acc: 0.7702\n",
            "Epoch 5/20\n",
            "1071/1071 [==============================] - 52s 49ms/step - loss: 0.0100 - v_j_abs_loss: 0.0100 - decoded_loss: 0.2738 - v_j_abs_acc: 1.0000 - val_loss: 0.2401 - val_v_j_abs_loss: 0.2401 - val_decoded_loss: 0.2734 - val_v_j_abs_acc: 0.7810\n",
            "Epoch 6/20\n",
            "1071/1071 [==============================] - 51s 48ms/step - loss: 0.0061 - v_j_abs_loss: 0.0061 - decoded_loss: 0.2738 - v_j_abs_acc: 1.0000 - val_loss: 0.2366 - val_v_j_abs_loss: 0.2366 - val_decoded_loss: 0.2734 - val_v_j_abs_acc: 0.7832\n",
            "Epoch 7/20\n",
            "1071/1071 [==============================] - 51s 48ms/step - loss: 0.0041 - v_j_abs_loss: 0.0041 - decoded_loss: 0.2738 - v_j_abs_acc: 1.0000 - val_loss: 0.2359 - val_v_j_abs_loss: 0.2359 - val_decoded_loss: 0.2734 - val_v_j_abs_acc: 0.7823\n",
            "Epoch 8/20\n",
            "1071/1071 [==============================] - 51s 47ms/step - loss: 0.0028 - v_j_abs_loss: 0.0028 - decoded_loss: 0.2738 - v_j_abs_acc: 1.0000 - val_loss: 0.2358 - val_v_j_abs_loss: 0.2358 - val_decoded_loss: 0.2734 - val_v_j_abs_acc: 0.7914\n",
            "Epoch 9/20\n",
            "1071/1071 [==============================] - 51s 48ms/step - loss: 0.0020 - v_j_abs_loss: 0.0020 - decoded_loss: 0.2738 - v_j_abs_acc: 1.0000 - val_loss: 0.2364 - val_v_j_abs_loss: 0.2364 - val_decoded_loss: 0.2734 - val_v_j_abs_acc: 0.7926\n",
            "Epoch 10/20\n",
            "1071/1071 [==============================] - 52s 49ms/step - loss: 0.0013 - v_j_abs_loss: 0.0013 - decoded_loss: 0.2738 - v_j_abs_acc: 1.0000 - val_loss: 0.2373 - val_v_j_abs_loss: 0.2373 - val_decoded_loss: 0.2734 - val_v_j_abs_acc: 0.7917\n",
            "Epoch 11/20\n",
            "1071/1071 [==============================] - 53s 49ms/step - loss: 9.1099e-04 - v_j_abs_loss: 9.1099e-04 - decoded_loss: 0.2738 - v_j_abs_acc: 1.0000 - val_loss: 0.2390 - val_v_j_abs_loss: 0.2390 - val_decoded_loss: 0.2734 - val_v_j_abs_acc: 0.7957\n",
            "Epoch 12/20\n",
            "1071/1071 [==============================] - 52s 49ms/step - loss: 6.4882e-04 - v_j_abs_loss: 6.4882e-04 - decoded_loss: 0.2738 - v_j_abs_acc: 1.0000 - val_loss: 0.2392 - val_v_j_abs_loss: 0.2392 - val_decoded_loss: 0.2734 - val_v_j_abs_acc: 0.7954\n",
            "Epoch 13/20\n",
            "1071/1071 [==============================] - 53s 49ms/step - loss: 4.5917e-04 - v_j_abs_loss: 4.5917e-04 - decoded_loss: 0.2738 - v_j_abs_acc: 1.0000 - val_loss: 0.2435 - val_v_j_abs_loss: 0.2435 - val_decoded_loss: 0.2734 - val_v_j_abs_acc: 0.7961\n",
            "Epoch 14/20\n",
            "1071/1071 [==============================] - 52s 49ms/step - loss: 4.0097e-04 - v_j_abs_loss: 4.0097e-04 - decoded_loss: 0.2738 - v_j_abs_acc: 1.0000 - val_loss: 0.2443 - val_v_j_abs_loss: 0.2443 - val_decoded_loss: 0.2734 - val_v_j_abs_acc: 0.7932\n",
            "Epoch 15/20\n",
            "1071/1071 [==============================] - 52s 48ms/step - loss: 3.0158e-04 - v_j_abs_loss: 3.0158e-04 - decoded_loss: 0.2738 - v_j_abs_acc: 1.0000 - val_loss: 0.2438 - val_v_j_abs_loss: 0.2438 - val_decoded_loss: 0.2734 - val_v_j_abs_acc: 0.7969\n",
            "Epoch 16/20\n",
            "1071/1071 [==============================] - 51s 48ms/step - loss: 2.4247e-04 - v_j_abs_loss: 2.4247e-04 - decoded_loss: 0.2738 - v_j_abs_acc: 1.0000 - val_loss: 0.2445 - val_v_j_abs_loss: 0.2445 - val_decoded_loss: 0.2734 - val_v_j_abs_acc: 0.7961\n",
            "Epoch 17/20\n",
            "1071/1071 [==============================] - 50s 46ms/step - loss: 2.0596e-04 - v_j_abs_loss: 2.0596e-04 - decoded_loss: 0.2738 - v_j_abs_acc: 1.0000 - val_loss: 0.2469 - val_v_j_abs_loss: 0.2469 - val_decoded_loss: 0.2734 - val_v_j_abs_acc: 0.7995\n",
            "Epoch 18/20\n",
            "1071/1071 [==============================] - 53s 49ms/step - loss: 1.3743e-04 - v_j_abs_loss: 1.3743e-04 - decoded_loss: 0.2738 - v_j_abs_acc: 1.0000 - val_loss: 0.2456 - val_v_j_abs_loss: 0.2456 - val_decoded_loss: 0.2734 - val_v_j_abs_acc: 0.8006\n",
            "Epoch 19/20\n",
            "1071/1071 [==============================] - 53s 49ms/step - loss: 1.0585e-04 - v_j_abs_loss: 1.0585e-04 - decoded_loss: 0.2738 - v_j_abs_acc: 1.0000 - val_loss: 0.2466 - val_v_j_abs_loss: 0.2466 - val_decoded_loss: 0.2734 - val_v_j_abs_acc: 0.8003\n",
            "Epoch 20/20\n",
            "1071/1071 [==============================] - 51s 48ms/step - loss: 8.5307e-05 - v_j_abs_loss: 8.5307e-05 - decoded_loss: 0.2738 - v_j_abs_acc: 1.0000 - val_loss: 0.2495 - val_v_j_abs_loss: 0.2495 - val_decoded_loss: 0.2734 - val_v_j_abs_acc: 0.7991\n"
          ]
        }
      ],
      "source": [
        "train(model=model, data=((X_train, y_train_encoded), (X_test, y_test_encoded)), epocs=20)\n",
        "#train(model=model, data=((X_train, y_train_encoded)), epocs=20)\n"
      ]
    },
    {
      "cell_type": "code",
      "execution_count": null,
      "metadata": {
        "id": "CJI1K7B4kC62"
      },
      "outputs": [],
      "source": [
        "#Save last weights\n",
        "model_last_file = 'lastweights-capsnet-nb3.hdf5'\n",
        "models_path = os.path.abspath('/content/drive/My Drive/Colab Notebooks/mydata/')\n",
        "model_last_path = os.path.join(models_path, model_last_file)\n",
        "\n",
        "model.save(model_last_path,overwrite= True, include_optimizer=True)"
      ]
    },
    {
      "cell_type": "code",
      "execution_count": null,
      "metadata": {
        "colab": {
          "base_uri": "https://localhost:8080/"
        },
        "id": "EXfhhnRzXk1e",
        "outputId": "e5d20495-f5e6-4d9c-fc63-1f02d6deffaf"
      },
      "outputs": [
        {
          "ename": "NameError",
          "evalue": "ignored",
          "output_type": "error",
          "traceback": [
            "\u001b[0;31m---------------------------------------------------------------------------\u001b[0m",
            "\u001b[0;31mNameError\u001b[0m                                 Traceback (most recent call last)",
            "\u001b[0;32m<ipython-input-66-868d3253b4d4>\u001b[0m in \u001b[0;36m<module>\u001b[0;34m()\u001b[0m\n\u001b[1;32m      1\u001b[0m \u001b[0;31m#Load last epoch weights\u001b[0m\u001b[0;34m\u001b[0m\u001b[0;34m\u001b[0m\u001b[0;34m\u001b[0m\u001b[0m\n\u001b[1;32m      2\u001b[0m \u001b[0;34m\u001b[0m\u001b[0m\n\u001b[0;32m----> 3\u001b[0;31m \u001b[0mmodel\u001b[0m\u001b[0;34m=\u001b[0m \u001b[0mload_model\u001b[0m\u001b[0;34m(\u001b[0m\u001b[0mmodel_last_path\u001b[0m\u001b[0;34m)\u001b[0m\u001b[0;34m\u001b[0m\u001b[0;34m\u001b[0m\u001b[0m\n\u001b[0m",
            "\u001b[0;31mNameError\u001b[0m: name 'model_last_path' is not defined"
          ]
        }
      ],
      "source": [
        "#Load last epoch weights\n",
        "\n",
        "model= load_model(model_last_path)"
      ]
    },
    {
      "cell_type": "code",
      "execution_count": null,
      "metadata": {
        "id": "gtqtvV31Xuhq"
      },
      "outputs": [],
      "source": [
        ""
      ]
    },
    {
      "cell_type": "code",
      "execution_count": null,
      "metadata": {
        "id": "-3YTaDUQnIwH"
      },
      "outputs": [],
      "source": [
        "def plot_history(history):\n",
        "    acc = history.history['capsnet_acc']\n",
        "    val_acc = history.history['val_capsnet_acc']\n",
        "    loss = history.history['capsnet_loss']\n",
        "    val_loss = history.history['val_loss']\n",
        "\n",
        "    epochs = range(1, len(acc) + 1)\n",
        "\n",
        "    plt.figure(figsize=(12,8))\n",
        "    plt.plot(epochs, acc, 'bo', label='Training Accuracy')\n",
        "    plt.plot(epochs, val_acc, 'b', color='red', label='Validation Accuracy')\n",
        "    plt.title('Training & Validation Accuracy')\n",
        "    plt.legend()\n",
        "\n",
        "    plt.figure(figsize=(12,8))\n",
        "    plt.plot(epochs, loss, 'bo', label='Training Loss')\n",
        "    plt.plot(epochs, val_loss, 'b', color='red', label='Validation Loss')\n",
        "    plt.title('Training & Validation loss')\n",
        "    plt.legend()\n",
        "\n",
        "    plt.show()\n",
        "    return acc, val_acc, loss, val_loss\n",
        "\n",
        "\n",
        "acc, val_acc, loss, val_loss = plot_history(history)"
      ]
    },
    {
      "cell_type": "code",
      "execution_count": null,
      "metadata": {
        "id": "VcfIjDjjq4NX"
      },
      "outputs": [],
      "source": [
        "def test(model, data, args):\n",
        "    x_test, y_test = data\n",
        "    y_pred, x_recon = model.predict(x_test, batch_size=10)\n",
        "    print('-'*30 + 'Begin: test' + '-'*30)\n",
        "    print('Test acc:', np.sum(np.argmax(y_pred, 1) == np.argmax(y_test, 1))/y_test.shape[0])\n"
      ]
    },
    {
      "cell_type": "code",
      "execution_count": null,
      "metadata": {
        "colab": {
          "base_uri": "https://localhost:8080/",
          "height": 162
        },
        "id": "JzLJkFqQrCW-",
        "outputId": "91780b1f-743b-42d4-b052-035df019abfe"
      },
      "outputs": [
        {
          "ename": "TypeError",
          "evalue": "ignored",
          "output_type": "error",
          "traceback": [
            "\u001b[0;31m---------------------------------------------------------------------------\u001b[0m",
            "\u001b[0;31mTypeError\u001b[0m                                 Traceback (most recent call last)",
            "\u001b[0;32m<ipython-input-46-ce8a0b973353>\u001b[0m in \u001b[0;36m<module>\u001b[0;34m()\u001b[0m\n\u001b[0;32m----> 1\u001b[0;31m \u001b[0mtest\u001b[0m\u001b[0;34m(\u001b[0m\u001b[0mmodel\u001b[0m\u001b[0;34m=\u001b[0m\u001b[0mmodel\u001b[0m\u001b[0;34m,\u001b[0m \u001b[0mdata\u001b[0m\u001b[0;34m=\u001b[0m\u001b[0;34m(\u001b[0m\u001b[0;34m(\u001b[0m\u001b[0mX_train\u001b[0m\u001b[0;34m,\u001b[0m \u001b[0my_train_encoded\u001b[0m\u001b[0;34m)\u001b[0m\u001b[0;34m,\u001b[0m \u001b[0;34m(\u001b[0m\u001b[0mX_test\u001b[0m\u001b[0;34m,\u001b[0m \u001b[0my_test_encoded\u001b[0m\u001b[0;34m)\u001b[0m\u001b[0;34m)\u001b[0m\u001b[0;34m)\u001b[0m\u001b[0;34m\u001b[0m\u001b[0;34m\u001b[0m\u001b[0m\n\u001b[0m",
            "\u001b[0;31mTypeError\u001b[0m: test() missing 1 required positional argument: 'args'"
          ]
        }
      ],
      "source": [
        "test(model=model, data=((X_train, y_train_encoded), (X_test, y_test_encoded)))"
      ]
    }
  ],
  "metadata": {
    "accelerator": "GPU",
    "colab": {
      "collapsed_sections": [
        "wDqKAPADkduG"
      ],
      "name": "CapsnetEmirati_Final.ipynb",
      "provenance": [],
      "include_colab_link": true
    },
    "kernelspec": {
      "display_name": "Python 3.6 (tensorflow)",
      "language": "python",
      "name": "tensorflow"
    },
    "language_info": {
      "codemirror_mode": {
        "name": "ipython",
        "version": 3
      },
      "file_extension": ".py",
      "mimetype": "text/x-python",
      "name": "python",
      "nbconvert_exporter": "python",
      "pygments_lexer": "ipython3",
      "version": "3.6.9"
    }
  },
  "nbformat": 4,
  "nbformat_minor": 0
}